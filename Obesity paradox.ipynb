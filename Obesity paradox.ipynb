{
  "cells": [
    {
      "cell_type": "markdown",
      "source": [
        "# **The code has no output due to medical confidentiality**"
      ],
      "metadata": {
        "id": "f5kpVNaj-R6y"
      },
      "id": "f5kpVNaj-R6y"
    },
    {
      "cell_type": "markdown",
      "id": "5f7f132b-406b-4d96-ae75-84374d2b14e1",
      "metadata": {
        "id": "5f7f132b-406b-4d96-ae75-84374d2b14e1"
      },
      "source": [
        "### **Install packages**"
      ]
    },
    {
      "cell_type": "code",
      "execution_count": null,
      "id": "cc82659e-df6a-4332-b2db-34edd9c6cf8e",
      "metadata": {
        "id": "cc82659e-df6a-4332-b2db-34edd9c6cf8e"
      },
      "outputs": [],
      "source": [
        "install.packages(\"sparklyr\")\n",
        "knitr::opts_chunk$set(echo = TRUE)"
      ]
    },
    {
      "cell_type": "code",
      "execution_count": null,
      "id": "2a61eef9-19c6-4260-a8df-f9fd455e3724",
      "metadata": {
        "id": "2a61eef9-19c6-4260-a8df-f9fd455e3724"
      },
      "outputs": [],
      "source": [
        "# Install packages\n",
        "install.packages('basecamb')\n",
        "install.packages(\"dunn.test\")\n",
        "install.packages(\"igraph\")\n",
        "install.packages(\"ggridges\")\n",
        "install.packages(\"ggplot2\")\n",
        "install.packages(\"viridis\")\n",
        "install.packages('survminer')\n",
        "library(igraph)\n",
        "library(tidyverse)\n",
        "library(ggplot2)\n",
        "library(viridis)\n",
        "library(ggridges)\n",
        "library(tidymodels)\n",
        "library(lubridate)\n",
        "library(dplyr)\n",
        "library(dunn.test)"
      ]
    },
    {
      "cell_type": "code",
      "execution_count": null,
      "id": "ef806541-6f8b-4be5-b974-6ab1dd5de8a7",
      "metadata": {
        "id": "ef806541-6f8b-4be5-b974-6ab1dd5de8a7"
      },
      "outputs": [],
      "source": [
        "# Install packages\n",
        "install.packages(\"gapminder\")\n",
        "library(gapminder)"
      ]
    },
    {
      "cell_type": "markdown",
      "id": "8b96975e-5d2c-4c38-91b2-ab5e148c1c38",
      "metadata": {
        "id": "8b96975e-5d2c-4c38-91b2-ab5e148c1c38"
      },
      "source": [
        "### **Research**"
      ]
    },
    {
      "cell_type": "markdown",
      "id": "54e46a5c-88ec-471c-88f8-27fd71e92a02",
      "metadata": {
        "id": "54e46a5c-88ec-471c-88f8-27fd71e92a02"
      },
      "source": [
        "#### **Functions**"
      ]
    },
    {
      "cell_type": "code",
      "execution_count": null,
      "id": "6129366a-f9c9-4011-a492-7e624a7f9778",
      "metadata": {
        "id": "6129366a-f9c9-4011-a492-7e624a7f9778"
      },
      "outputs": [],
      "source": [
        "# A function that adds binary columns for death in immidiate time, 1 year and 5 years after hospitalization, death_date equal to NA will be 0\n",
        "add_binary_deaths <- function(tablename) {\n",
        "    tablename <- tablename %>% \n",
        "    mutate(death_immidiate = ifelse((as.Date(death_date) - as.Date(cohort_start_date)) > 90 , 0, 1),\n",
        "           death_after_one_year = ifelse((as.Date(death_date) - as.Date(cohort_start_date)) > 365, 0, 1),\n",
        "           # Every 4 years an additional day is added\n",
        "           death_after_five_years = ifelse((as.Date(death_date) - as.Date(cohort_start_date)) > 365*5 + 1, 0, 1),\n",
        "           \n",
        "           death_immidiate = ifelse(is.na(death_date), 0, death_immidiate),\n",
        "           death_after_one_year = ifelse(is.na(death_date), 0, death_after_one_year),\n",
        "           death_after_five_years = ifelse(is.na(death_date), 0, death_after_five_years))\n",
        "}"
      ]
    },
    {
      "cell_type": "code",
      "execution_count": null,
      "id": "0df87cb5-052f-45e3-9807-2be887eb2e11",
      "metadata": {
        "id": "0df87cb5-052f-45e3-9807-2be887eb2e11"
      },
      "outputs": [],
      "source": [
        "# A function that returns the logistic model for a specific dependent variable and dependent variables: bmi, gender and age \n",
        "logistic_model_from_list <- function(tablename, dependent_variable) {\n",
        "variables_list <-colnames(tablename)\n",
        "independent_vars <- paste0(variables_list[4])\n",
        "    \n",
        "    for (i in 3: 2)\n",
        "        {\n",
        "           independent_vars <- paste0(independent_vars,\"+\",variables_list[i])\n",
        "        }\n",
        "    logistic_model <- glm(paste0(dependent_variable, \"~\", independent_vars), data = tablename, family = binomial)\n",
        "    #logistic_table <- tidy(logistic_model)\n",
        "    #logistic_table <- logistic_table %>% mutate(odd_ratio = exp(estimate)) \n",
        "    #confidence_interval <- as_tibble(confint(logistic_model))\n",
        "    #logistic_table$\"2.5 %\" <-  as.numeric(paste(confidence_interval$\"2.5 %\"))\n",
        "    #logistic_table$\"97.5 %\" <-  as.numeric(paste(confidence_interval$\"97.5 %\"))\n",
        "    #logistic_table <- logistic_table %>% mutate(\"estimate+-[]\" = estimate - logistic_table$\"2.5 %\")\n",
        "    #logistic_table\n",
        "    basecamb::or_model_summary(logistic_model)\n",
        "}"
      ]
    },
    {
      "cell_type": "code",
      "execution_count": null,
      "id": "ff9c2b9f-d278-4e53-adeb-96818ea53bab",
      "metadata": {
        "id": "ff9c2b9f-d278-4e53-adeb-96818ea53bab"
      },
      "outputs": [],
      "source": [
        "# A function that returns the logistic model for a specific dependent variable and dependent variables: bmi, gender and age \n",
        "logistic_model_from_list_with_groups <- function(tablename, dependent_variable) {\n",
        "    \n",
        "  tablename <-tablename %>% mutate(bmi_group = as.factor(bmi_group))\n",
        "  tablename <- tablename %>%\n",
        "      mutate(bmi_group = relevel(bmi_group, ref = \"BMI group 18.5-25\"))\n",
        "  variables_list <-colnames(tablename)\n",
        "  independent_vars <- paste0(variables_list[4])\n",
        "    \n",
        "    for (i in 3: 2)\n",
        "        {\n",
        "           independent_vars <- paste0(independent_vars,\"+\",variables_list[i])\n",
        "        }\n",
        "    logistic_model <- glm(paste0(dependent_variable, \"~\", independent_vars), data = tablename, family = binomial)\n",
        "    logistic_table <- tidy(logistic_model)\n",
        "    logistic_table <- logistic_table %>% mutate(odd_ratio = exp(estimate)) \n",
        "    confidence_interval <- as_tibble(confint(logistic_model))\n",
        "    logistic_table$\"2.5 %\" <-  as.numeric(paste(confidence_interval$\"2.5 %\"))\n",
        "    logistic_table$\"97.5 %\" <-  as.numeric(paste(confidence_interval$\"97.5 %\"))\n",
        "    logistic_table <- logistic_table %>% mutate(\"estimate+-[]\" = estimate - logistic_table$\"2.5 %\")\n",
        "    logistic_table\n",
        "}"
      ]
    },
    {
      "cell_type": "code",
      "execution_count": null,
      "id": "1fd91ee7-fd2d-4130-82bb-39a541e212e0",
      "metadata": {
        "id": "1fd91ee7-fd2d-4130-82bb-39a541e212e0"
      },
      "outputs": [],
      "source": [
        "# A function that returns the logistic model for a specific dependent variable and dependent variables: bmi, gende, age, age_greater_65, age_greater_65*bmi\n",
        "logistic_model_from_list_with_interaction<- function(tablename, dependent_variable) {\n",
        "    variables_list <-colnames(tablename)\n",
        "    independent_vars <- paste0(\"bmi + gender + age + age_greater_65 + age_greater_65*bmi\")\n",
        "    logistic_model <- glm(paste0(dependent_variable, \"~\", independent_vars), data = tablename, family = binomial)\n",
        "    logistic_table <- tidy(logistic_model)\n",
        "    logistic_table <- logistic_table %>% mutate(odd_ratio = exp(estimate)) \n",
        "    confidence_interval <- as_tibble(confint(logistic_model))\n",
        "    logistic_table$\"2.5 %\" <-  as.numeric(paste(confidence_interval$\"2.5 %\"))\n",
        "    logistic_table$\"97.5 %\" <-  as.numeric(paste(confidence_interval$\"97.5 %\"))\n",
        "    logistic_table <- logistic_table %>% mutate(\"estimate+-[]\" = estimate - logistic_table$\"2.5 %\")\n",
        "    logistic_table\n",
        "}"
      ]
    },
    {
      "cell_type": "code",
      "execution_count": null,
      "id": "40b6d1c5-4e76-4412-b615-5ad01d94a96a",
      "metadata": {
        "id": "40b6d1c5-4e76-4412-b615-5ad01d94a96a"
      },
      "outputs": [],
      "source": [
        "# A function that returns the linear model for a specific dependent variable and dependent variables: bmi, gender and age \n",
        "linear_model_from_list <- function(tablename, dependent_variable) {\n",
        "variables_list <-colnames(tablename)\n",
        "independent_vars <- paste0(variables_list[4])\n",
        "    \n",
        "    for (i in 3: 2)\n",
        "        {\n",
        "           independent_vars <- paste0(independent_vars,\"+\",variables_list[i])\n",
        "        }\n",
        "    linear_model <- lm(paste0(dependent_variable, \"~\", independent_vars), data = tablename)\n",
        "    linear_table <- tidy(linear_model)\n",
        "    confidence_interval <- as_tibble(confint(linear_model))\n",
        "    linear_table$\"2.5 %\" <-  as.numeric(paste(confidence_interval$\"2.5 %\"))\n",
        "    linear_table$\"97.5 %\" <-  as.numeric(paste(confidence_interval$\"97.5 %\"))\n",
        "    linear_table <- linear_table %>% mutate(\"estimate+-[]\" = estimate - linear_table$\"2.5 %\")\n",
        "    linear_table\n",
        "}"
      ]
    },
    {
      "cell_type": "code",
      "execution_count": null,
      "id": "5e01f093-d480-420e-a99e-926cdc7bed02",
      "metadata": {
        "id": "5e01f093-d480-420e-a99e-926cdc7bed02"
      },
      "outputs": [],
      "source": [
        "# A function that gets a dataframe and a death_column (immidiate/after a year/after five years) and returns prop death for each bmi group\n",
        "prop_death <-function(tablename, column) {\n",
        "    x <- tablename %>% \n",
        "    count(bmi_group, tablename[,column]) %>%\n",
        "    group_by(bmi_group)%>%\n",
        "    mutate(death_prop = n / sum(n),\n",
        "          group_size = sum(n))\n",
        "        \n",
        "    colnames(x)[2] <- 'bin_death'\n",
        "    colnames(x)[3] <- 'death_records'\n",
        "\n",
        "    x %>% \n",
        "    filter(bin_death == 1) %>%\n",
        "    select(bmi_group,death_prop, death_records,group_size) \n",
        "}"
      ]
    },
    {
      "cell_type": "code",
      "execution_count": null,
      "id": "a71a8fe5-080d-42e8-aa06-dd1ff87a1e8a",
      "metadata": {
        "id": "a71a8fe5-080d-42e8-aa06-dd1ff87a1e8a"
      },
      "outputs": [],
      "source": [
        "# A function that gets a dataframe and returns average hospitalztion time for each bmi group \n",
        "average_hosp_duration <-function(tablename) {\n",
        "    tablename %>% \n",
        "    group_by(bmi_group)%>%\n",
        "    summarize(mean_hospitalization_duration = mean(days_of_hospitalization, na.rm=TRUE),median = median(days_of_hospitalization, na.rm=TRUE), group_size=n()) \n",
        "}"
      ]
    },
    {
      "cell_type": "code",
      "execution_count": null,
      "id": "16d56001-6d41-43a7-be5e-80c7392c559b",
      "metadata": {
        "id": "16d56001-6d41-43a7-be5e-80c7392c559b"
      },
      "outputs": [],
      "source": [
        "# A function that gets a dataframe and returns a list that contain death values (immidiate/after one year/after five years) for each bmi group \n",
        "find_death_values <- function(tablename)\n",
        "    {\n",
        "    # vector that contain all the bmi_groups \n",
        "    unique_bmi_group <- sort(c(unique(tablename$bmi_group)))\n",
        "    death_column <- tablename[c(32)]\n",
        "    \n",
        "    # empty vector in size number of other bmi_groups\n",
        "    values_by_group <- vector(\"list\", length(unique_bmi_group))\n",
        "    # a pointer for the element's list\n",
        "    i = 1\n",
        "\n",
        "    for (x in unique_bmi_group)\n",
        "    {\n",
        "        # define 6 different death values by bmi_group  each group values by bmi_group\n",
        "         y <- (tablename %>%\n",
        "        filter(bmi_group == x))[[32]] ## <- take the last column (immidiate/after one year/after five years)\n",
        "        values_by_group[[i]] <- as.numeric(y)\n",
        "        # points to the next element\n",
        "        i <- i+1 \n",
        "        }\n",
        "    values_by_group\n",
        "    }\n"
      ]
    },
    {
      "cell_type": "code",
      "execution_count": null,
      "id": "1167c20a-d5e0-4080-9011-3cb7dabfa077",
      "metadata": {
        "id": "1167c20a-d5e0-4080-9011-3cb7dabfa077"
      },
      "outputs": [],
      "source": [
        "# A function that returns the logistic model for a specific dependent variable and dependent variables: bmi, gender and age \n",
        "coxph_model_from_list <- function(tablename, dependent_variable1, dependent_variable2) {\n",
        "variables_list <-colnames(tablename)\n",
        "independent_vars <- paste0(variables_list[5])\n",
        "\n",
        "\n",
        "    for (i in 4: 3)\n",
        "        {\n",
        "           independent_vars <- paste0(independent_vars,\"+\",variables_list[i])\n",
        "        }\n",
        "    independent_vars\n",
        "    coxph_model <- coxph(Surv(tablename[[dependent_variable1]],tablename[[dependent_variable2]]) ~ bmi + gender + age, data = tablename)\n",
        "    coxph_table <- tidy(coxph_model)\n",
        "    coxph_table <- coxph_table %>% mutate(odd_ratio = exp(estimate)) \n",
        "    confidence_interval <- as_tibble(confint(coxph_model))\n",
        "    coxph_table$\"2.5 %\" <-  as.numeric(paste(confidence_interval$\"2.5 %\"))\n",
        "    coxph_table$\"97.5 %\" <-  as.numeric(paste(confidence_interval$\"97.5 %\"))\n",
        "    coxph_table <- coxph_table %>% mutate(\"estimate+-[]\" = estimate - coxph_table$\"2.5 %\")\n",
        "    coxph_table\n",
        "}"
      ]
    },
    {
      "cell_type": "code",
      "execution_count": null,
      "id": "eb61c2f6-2fd2-41a1-84f0-36ce5cc66182",
      "metadata": {
        "id": "eb61c2f6-2fd2-41a1-84f0-36ce5cc66182"
      },
      "outputs": [],
      "source": [
        "# A function that returns the logistic model for a specific dependent variable and dependent variables: bmi, gender and age \n",
        "coxph_group_model_from_list <- function(tablename, dependent_variable1, dependent_variable2) {\n",
        "variables_list <-colnames(tablename)\n",
        "independent_vars <- paste0(variables_list[5])\n",
        "\n",
        "\n",
        "    for (i in 4: 3)\n",
        "        {\n",
        "           independent_vars <- paste0(independent_vars,\"+\",variables_list[i])\n",
        "        }\n",
        "    independent_vars\n",
        "    coxph_model <- coxph(Surv(tablename[[dependent_variable1]],tablename[[dependent_variable2]]) ~ bmi_group + gender + age, data = tablename)\n",
        "    coxph_table <- tidy(coxph_model)\n",
        "    coxph_table <- coxph_table %>% mutate(odd_ratio = exp(estimate)) \n",
        "    confidence_interval <- as_tibble(confint(coxph_model))\n",
        "    coxph_table$\"2.5 %\" <-  as.numeric(paste(confidence_interval$\"2.5 %\"))\n",
        "    coxph_table$\"97.5 %\" <-  as.numeric(paste(confidence_interval$\"97.5 %\"))\n",
        "    coxph_table <- coxph_table %>% mutate(\"estimate+-[]\" = estimate - coxph_table$\"2.5 %\")\n",
        "    coxph_table\n",
        "}"
      ]
    },
    {
      "cell_type": "code",
      "execution_count": null,
      "id": "46af6fc5-d219-4c03-aba6-5dee73a1b547",
      "metadata": {
        "id": "46af6fc5-d219-4c03-aba6-5dee73a1b547"
      },
      "outputs": [],
      "source": [
        "# A function that returns a coxph_model for graph\n",
        "coxph_graph <- function(tablename, dependent_variable1, dependent_variable2) {\n",
        "variables_list <-colnames(tablename)\n",
        "independent_vars <- paste0(variables_list[5])\n",
        "    for (i in 4: 3)\n",
        "        {\n",
        "           independent_vars <- paste0(independent_vars,\"+\",variables_list[i])\n",
        "        }\n",
        "    independent_vars\n",
        "    coxph_model <- coxph(Surv(tablename[[dependent_variable1]],tablename[[dependent_variable2]]) ~ bmi + gender + age, data = tablename)\n",
        "    coxph_model\n",
        "    }"
      ]
    },
    {
      "cell_type": "code",
      "execution_count": null,
      "id": "93bf60d5-66ad-48a9-9684-f7c74db7cb44",
      "metadata": {
        "id": "93bf60d5-66ad-48a9-9684-f7c74db7cb44"
      },
      "outputs": [],
      "source": [
        "# A function that returns a coxph_group_model for graph\n",
        "coxph_group_graph <- function(tablename, dependent_variable1, dependent_variable2) {\n",
        "variables_list <-colnames(tablename)\n",
        "independent_vars <- paste0(variables_list[5])\n",
        "    for (i in 4: 3)\n",
        "        {\n",
        "           independent_vars <- paste0(independent_vars,\"+\",variables_list[i])\n",
        "        }\n",
        "    independent_vars\n",
        "    coxph_model <- coxph(Surv(tablename[[dependent_variable1]],tablename[[dependent_variable2]]) ~ bmi_group + gender + age, data = tablename)\n",
        "    coxph_model\n",
        "    }"
      ]
    },
    {
      "cell_type": "code",
      "execution_count": null,
      "id": "e5d8334f-f607-49b9-bb14-4e79e6c222cb",
      "metadata": {
        "id": "e5d8334f-f607-49b9-bb14-4e79e6c222cb"
      },
      "outputs": [],
      "source": [
        "# A function that returns the linear model for a specific dependent variable and dependent variables: bmi, gender and age\n",
        "continuous_confounding_model <- function(tablename, dependent_variable) {\n",
        "    # get the independent variables\n",
        "    variables_list <- colnames(tablename)\n",
        "    variables_list <- variables_list[c(2:32)]\n",
        "    independent_vars <- paste0(variables_list[1])\n",
        "    \n",
        "   for (i in 2: length(variables_list))\n",
        "        {\n",
        "           independent_vars <- paste0(independent_vars,\"+\",variables_list[i])\n",
        "        }\n",
        "    \n",
        "    model <- lm(paste0(dependent_variable, \"~\", independent_vars), data = tablename)\n",
        "    model_table <- tidy(model)\n",
        "    model_table <- model_table %>% mutate(odd_ratio = exp(estimate)) \n",
        "    confidence_interval <- as_tibble(confint(model))\n",
        "    model_table$\"2.5 %\" <-  as.numeric(paste(confidence_interval$\"2.5 %\"))\n",
        "    model_table$\"97.5 %\" <-  as.numeric(paste(confidence_interval$\"97.5 %\"))\n",
        "    model_table <- model_table %>% mutate(\"estimate+-[]\" = estimate - model_table$\"2.5 %\")\n",
        "    model_table %>% arrange(p.value)\n",
        "}"
      ]
    },
    {
      "cell_type": "code",
      "execution_count": null,
      "id": "c4a71a8f-d685-40a3-979a-f2d252d2c8fa",
      "metadata": {
        "id": "c4a71a8f-d685-40a3-979a-f2d252d2c8fa"
      },
      "outputs": [],
      "source": [
        "# A function that returns the linear model for a specific dependent variable and dependent variables: bmi_group, gender and age\n",
        "\n",
        "groups_confounding_model <- function(tablename, dependent_variable) {\n",
        "    # get the independent variables\n",
        "    tablename <- tablename %>% mutate(bmi_group = as.factor(bmi_group))\n",
        "    tablename <- tablename %>%\n",
        "      mutate(bmi_group = relevel(bmi_group, ref = \"BMI group 18.5-25\"))\n",
        "\n",
        "    # get the independent variables\n",
        "    variables_list <- colnames(tablename)\n",
        "    variables_list <- variables_list[c(2:32)]\n",
        "    independent_vars <- paste0(variables_list[1])\n",
        "    \n",
        "   for (i in 2: length(variables_list))\n",
        "        {\n",
        "           independent_vars <- paste0(independent_vars,\"+\",variables_list[i])\n",
        "        }\n",
        "    \n",
        "    model <- lm(paste0(dependent_variable, \"~\", independent_vars), data = tablename)\n",
        "    model_table <- tidy(model)\n",
        "    model_table <- model_table %>% mutate(odd_ratio = exp(estimate)) \n",
        "    confidence_interval <- as_tibble(confint(model))\n",
        "    model_table$\"2.5 %\" <-  as.numeric(paste(confidence_interval$\"2.5 %\"))\n",
        "    model_table$\"97.5 %\" <-  as.numeric(paste(confidence_interval$\"97.5 %\"))\n",
        "    model_table <- model_table %>% mutate(\"estimate+-[]\" = estimate - model_table$\"2.5 %\")\n",
        "    model_table %>% arrange(p.value)\n",
        "}"
      ]
    },
    {
      "cell_type": "code",
      "execution_count": null,
      "id": "b296572e-1eab-487a-9ec7-8986d9c680c6",
      "metadata": {
        "id": "b296572e-1eab-487a-9ec7-8986d9c680c6"
      },
      "outputs": [],
      "source": [
        "# A function that gets dunn test variable and returns plot that show the connection between similiar groups by the dunn test\n",
        "get_similar_groups <-function(dunn_test) {\n",
        "    list_similar_pairs <- c() \n",
        "    list_p_adj <- dunn_test$P.adjusted\n",
        "    for (x in 1:15){\n",
        "        if (list_p_adj[x] > 0.025){\n",
        "            list_similar_pairs <- append(list_similar_pairs,stringr::str_extract_all(dunn_test$comparisons[x], \"\\\\d+\"))\n",
        "            }\n",
        "        }\n",
        "    # create a df of pairs simmilar vertices\n",
        "    df <- data.frame(P1 = c('15-18.5','18.5-25','25-30','30-35','35-40','40-45'), P2 = c('15-18.5','18.5-25','25-30','30-35','35-40','40-45')) \n",
        "    for (pair in list_similar_pairs){\n",
        "        \n",
        "        p1 <- as.numeric(unlist(pair[1]))\n",
        "        p2 <- as.numeric(unlist(pair[2]))\n",
        "        df[nrow(df) +1,] <- c(p1, p2)\n",
        "            }\n",
        "    df[df == 1] <- '15-18.5'  \n",
        "    df[df == 2] <- '18.5-25'\n",
        "    df[df == 3] <- '25-30'\n",
        "    df[df == 4] <- '30-35'\n",
        "    df[df == 5] <- '35-40'\n",
        "    df[df == 6] <- '40-45'\n",
        "    \n",
        "    g_1 <- graph.data.frame(df,directed=F)\n",
        "    plot(g_1,  vertex.size=30)\n",
        "}"
      ]
    },
    {
      "cell_type": "code",
      "execution_count": null,
      "id": "bb21caee-c6e6-4cb2-8d54-a8d6c8b6c604",
      "metadata": {
        "id": "bb21caee-c6e6-4cb2-8d54-a8d6c8b6c604"
      },
      "outputs": [],
      "source": [
        "# A function that gets dataframe and returns a list that contain death values (immidiate/after one year/after five years) for each bmi group \n",
        "find_death_values <- function(tablename)\n",
        "    {\n",
        "    # vector that contain all the bmi_groups \n",
        "    unique_bmi_group <- sort(c(unique(tablename$bmi_group)))\n",
        "    death_column <- tablename[c(1)]\n",
        "    \n",
        "    # empty vector in size number of other bmi_groups\n",
        "    values_by_group <- vector(\"list\", length(unique_bmi_group))\n",
        "    # a pointer for the element's list\n",
        "    i = 1\n",
        "    for (x in unique_bmi_group)\n",
        "    {\n",
        "        # define 6 different death values by bmi_group  each group values by bmi_group\n",
        "         y <- (tablename %>%\n",
        "        filter(bmi_group == x))[[1]] ## <- take the last column (immidiate/after one year/after five years)\n",
        "        \n",
        "        values_by_group[[i]] <- as.numeric(y)\n",
        "        # points to the next element\n",
        "        i <- i+1 \n",
        "        }\n",
        "    values_by_group\n",
        "    }\n"
      ]
    },
    {
      "cell_type": "markdown",
      "id": "9cbbe1f7-8b6c-489a-a881-a58f0dbf9a0e",
      "metadata": {
        "tags": [],
        "id": "9cbbe1f7-8b6c-489a-a881-a58f0dbf9a0e"
      },
      "source": [
        "### **Main research question - what is the association between BMI and mortality for different time horizons:**"
      ]
    },
    {
      "cell_type": "code",
      "execution_count": null,
      "id": "cc6a6efa-be15-4e7f-bb06-83e1f531388e",
      "metadata": {
        "id": "cc6a6efa-be15-4e7f-bb06-83e1f531388e"
      },
      "outputs": [],
      "source": [
        "obesity <- readRDS(\"obesity.RDS\")"
      ]
    },
    {
      "cell_type": "markdown",
      "id": "f2867265-1452-4bd1-ba16-b6727e2b75fb",
      "metadata": {
        "tags": [],
        "id": "f2867265-1452-4bd1-ba16-b6727e2b75fb"
      },
      "source": [
        "##### **Add binary death columns**"
      ]
    },
    {
      "cell_type": "code",
      "execution_count": null,
      "id": "d1637aee-56db-4fd8-acaf-903a4447a162",
      "metadata": {
        "id": "d1637aee-56db-4fd8-acaf-903a4447a162"
      },
      "outputs": [],
      "source": [
        "# Add binary death columns for immidiate time, one year and five years\n",
        "obesity_binary <- add_binary_deaths(obesity)"
      ]
    },
    {
      "cell_type": "markdown",
      "id": "13cb2146-9653-4b3e-943a-f917b6d2b5bd",
      "metadata": {
        "id": "13cb2146-9653-4b3e-943a-f917b6d2b5bd"
      },
      "source": [
        "##### **death ~ bmi + gender + age**"
      ]
    },
    {
      "cell_type": "markdown",
      "id": "70b78518-09ef-411e-bf10-cdcbeae8f7eb",
      "metadata": {
        "tags": [],
        "id": "70b78518-09ef-411e-bf10-cdcbeae8f7eb"
      },
      "source": [
        "##### **1. Immidiate time**"
      ]
    },
    {
      "cell_type": "code",
      "execution_count": null,
      "id": "0b16ef43-5686-4a68-9b64-f23df5c56cd2",
      "metadata": {
        "id": "0b16ef43-5686-4a68-9b64-f23df5c56cd2"
      },
      "outputs": [],
      "source": [
        "# Select only columns with binary_death, age, gender and bmi\n",
        "obesity_binary_imm <- obesity_binary[c(37,2:3,8)]\n",
        "\n",
        "# logistic regression for immidiate time period\n",
        "imm_res <- logistic_model_from_list(obesity_binary_imm,  \"death_immidiate\")"
      ]
    },
    {
      "cell_type": "code",
      "execution_count": null,
      "id": "2dfe53ea-4306-4044-a9d6-8590cc7b7afc",
      "metadata": {
        "id": "2dfe53ea-4306-4044-a9d6-8590cc7b7afc"
      },
      "outputs": [],
      "source": [
        "imm_res"
      ]
    },
    {
      "cell_type": "markdown",
      "id": "b7296a22-ba47-4ef8-ab5a-194b14924d2b",
      "metadata": {
        "tags": [],
        "id": "b7296a22-ba47-4ef8-ab5a-194b14924d2b"
      },
      "source": [
        "##### **2. After 1 year**"
      ]
    },
    {
      "cell_type": "code",
      "execution_count": null,
      "id": "9e12f27a-739e-4933-9f02-e5f3ef6c5ebf",
      "metadata": {
        "id": "9e12f27a-739e-4933-9f02-e5f3ef6c5ebf"
      },
      "outputs": [],
      "source": [
        "# Select only columns with binary_death, age, gender and bmi\n",
        "# there were no cohort_start_date after 2021-07-02, thus there is no need to discard any rows\n",
        "obesity_binary_one_year <- obesity_binary[c(38,2:3,8)]\n",
        "\n",
        "# logistic regression for one year period\n",
        "one_year_res <- logistic_model_from_list(obesity_binary_one_year,  \"death_after_one_year\")"
      ]
    },
    {
      "cell_type": "code",
      "execution_count": null,
      "id": "2b0ff844-b974-4dab-87f1-fafe64fc557a",
      "metadata": {
        "id": "2b0ff844-b974-4dab-87f1-fafe64fc557a"
      },
      "outputs": [],
      "source": [
        "one_year_res"
      ]
    },
    {
      "cell_type": "markdown",
      "id": "7007468d-ba35-456a-a0e6-cef409fe3054",
      "metadata": {
        "tags": [],
        "id": "7007468d-ba35-456a-a0e6-cef409fe3054"
      },
      "source": [
        "##### **3. After 5 years**"
      ]
    },
    {
      "cell_type": "code",
      "execution_count": null,
      "id": "ed39822c-aaec-49a8-9f4e-7db54e823385",
      "metadata": {
        "id": "ed39822c-aaec-49a8-9f4e-7db54e823385"
      },
      "outputs": [],
      "source": [
        "# Select only columns with binary_death, age, gender and bmi\n",
        "# 2017-07-02 is the latest cohort_end_date\n",
        "not_include_5_years = obesity_binary %>% filter(as.Date(cohort_start_date) > '2017-07-02') %>% select(person_id)\n",
        "obesity_binary_five_years <- obesity_binary %>% filter(!(person_id %in% not_include_5_years$person_id))\n",
        "obesity_binary_five_years <- obesity_binary_five_years[c(39,2:3,8)]\n",
        "\n",
        "# logistic regression for five years period\n",
        "five_years_res <- logistic_model_from_list(obesity_binary_five_years,  \"death_after_five_years\")"
      ]
    },
    {
      "cell_type": "code",
      "execution_count": null,
      "id": "ad8c6ea2-5853-40f7-9f20-24b77b0461ce",
      "metadata": {
        "id": "ad8c6ea2-5853-40f7-9f20-24b77b0461ce"
      },
      "outputs": [],
      "source": [
        "five_years_res"
      ]
    },
    {
      "cell_type": "markdown",
      "id": "02663f0d-4401-4343-81d0-28a7a020f53a",
      "metadata": {
        "id": "02663f0d-4401-4343-81d0-28a7a020f53a"
      },
      "source": [
        "##### **Graph with the 3 models - The mortality rate as a function of BMI, divided by time frame**"
      ]
    },
    {
      "cell_type": "code",
      "execution_count": null,
      "id": "e97304fb-ce50-4ee6-8d79-75214a806536",
      "metadata": {
        "id": "e97304fb-ce50-4ee6-8d79-75214a806536"
      },
      "outputs": [],
      "source": [
        "# Create a graph for 3 time frames\n",
        "\n",
        "new_bmis1 <- seq(15,45)\n",
        "\n",
        "# Immidiate time coefs\n",
        "a1 = imm_res$odd_ratio[1]\n",
        "b1 = imm_res$odd_ratio[2]\n",
        "\n",
        "# One year coefs\n",
        "a2 = one_year_res$odd_ratio[1]\n",
        "b2 = one_year_res$odd_ratio[2]\n",
        "\n",
        "# Five years coefs\n",
        "a3 = five_years_res$odd_ratio[1]\n",
        "b3 = five_years_res$odd_ratio[2]\n",
        "\n",
        "imm_curve <- 1*b1**(new_bmis1-18.5) \n",
        "\n",
        "one_year_curve <- 1*b2**(new_bmis1-18.5)\n",
        "\n",
        "five_years_curve <- 1*b3**(new_bmis1-18.5) \n",
        "\n",
        "a_probs <- imm_curve\n",
        "b_probs <- one_year_curve\n",
        "c_probs <- five_years_curve"
      ]
    },
    {
      "cell_type": "code",
      "execution_count": null,
      "id": "8e7c0ad3-dfc3-43d8-85b2-5129b996be7a",
      "metadata": {
        "id": "8e7c0ad3-dfc3-43d8-85b2-5129b996be7a"
      },
      "outputs": [],
      "source": [
        "# Mortality probability by time frame\n",
        "plot.data <- data.frame(\"Immidiate time\"=a_probs, \"1 year\"=b_probs, \"5 years\" =c_probs, X1=new_bmis1)\n",
        "\n",
        "plot.data <- rename(plot.data, \"Immidiate time\" = Immidiate.time, \"1 year\" =X1.year,\"5 years\" = X5.years)\n",
        "\n",
        "plot.data <- gather(plot.data, key=Group, value= prob,\"Immidiate time\",  \"1 year\", \"5 years\")\n",
        "\n",
        "cols <- c(\"Immidiate time\" = \"indianred1\",  \"1 year\" = \"green3\", \"5 years\" = \"deepskyblue2\")\n",
        "\n",
        "options(repr.plot.width = 10, repr.plot.height = 7)\n",
        "ggplot(plot.data, aes(x=X1, y=prob, color=Group)) + # asking it to set the color by the variable \"group\" is what makes it draw three different lines\n",
        "  geom_line(lwd=2) + theme_classic() +  \n",
        "  scale_color_manual(values = cols, breaks = c(\"Immidiate time\", \"1 year\", \"5 years\"),)  + scale_x_continuous(limits = c(15, 45), breaks = seq(15, 45, by = 5)) +\n",
        "      labs(x = expression(\"BMI (kg/m\"^\"2\"*\")\"), y=\"Odds ratio\", title=\"How BMI affects hospitalized mortality rate\",\n",
        "       subtitle = \"Divided by different time periods\") +\n",
        "        theme(plot.title = element_text(face=\"bold\",size = 14), axis.title.x = element_text(hjust=0.5,size = 14),axis.title.y = element_text(hjust=0.5,size = 14),\n",
        "              plot.subtitle = element_text(, size = 13), legend.title = element_text(face=\"bold\", size=13), legend.text = element_text(size=13))\n"
      ]
    },
    {
      "cell_type": "code",
      "execution_count": null,
      "id": "3e15f276-f644-4d78-8a84-b14d379f33d4",
      "metadata": {
        "id": "3e15f276-f644-4d78-8a84-b14d379f33d4"
      },
      "outputs": [],
      "source": [
        "#########################################################################################"
      ]
    },
    {
      "cell_type": "markdown",
      "id": "74276da5-5bed-4116-b2cd-792e2ff20c0c",
      "metadata": {
        "id": "74276da5-5bed-4116-b2cd-792e2ff20c0c"
      },
      "source": [
        "##### **death ~ bmi_group + gender + age**"
      ]
    },
    {
      "cell_type": "markdown",
      "id": "358da38b-8707-449e-9793-34ff24931ea9",
      "metadata": {
        "tags": [],
        "id": "358da38b-8707-449e-9793-34ff24931ea9"
      },
      "source": [
        "##### **1. Immidiate time**"
      ]
    },
    {
      "cell_type": "code",
      "execution_count": null,
      "id": "3688c3ca-e7fe-4ce9-8ece-9c2f4aac5bc9",
      "metadata": {
        "id": "3688c3ca-e7fe-4ce9-8ece-9c2f4aac5bc9"
      },
      "outputs": [],
      "source": [
        "# Select only columns with binary_death, age, gende and bmi group\n",
        "obesity_binary_imm <- obesity_binary[c(37,2:3,6)]"
      ]
    },
    {
      "cell_type": "code",
      "execution_count": null,
      "id": "13873a4e-38d0-48b5-b5d4-1213e1825dd5",
      "metadata": {
        "id": "13873a4e-38d0-48b5-b5d4-1213e1825dd5"
      },
      "outputs": [],
      "source": [
        "logistic_model_from_list_with_groups(obesity_binary_imm,  \"death_immidiate\")"
      ]
    },
    {
      "cell_type": "code",
      "execution_count": null,
      "id": "7f17cb27-7d4c-4300-824b-01590e918d87",
      "metadata": {
        "id": "7f17cb27-7d4c-4300-824b-01590e918d87"
      },
      "outputs": [],
      "source": [
        "# Use Kruskal Wallis test\n",
        "kruskal.test(obesity_binary_imm$death_immidiate ~ bmi_group,\n",
        "                    data = obesity_binary_imm)"
      ]
    },
    {
      "cell_type": "code",
      "execution_count": null,
      "id": "90037306-eda1-4eeb-a398-ba09ba4bc33f",
      "metadata": {
        "id": "90037306-eda1-4eeb-a398-ba09ba4bc33f"
      },
      "outputs": [],
      "source": [
        "# Get list that contain death_immidiate values for each bmi group \n",
        "obesity_immidiate_values <- find_death_values(obesity_binary_imm)\n",
        "\n",
        "# Perform Dunn's Test with bonferroni correction for death_immidiate values\n",
        "test <- dunn.test(x=obesity_immidiate_values, method=\"bonferroni\")"
      ]
    },
    {
      "cell_type": "code",
      "execution_count": null,
      "id": "61be6ade-aaaf-4294-852b-13c2b10140ee",
      "metadata": {
        "id": "61be6ade-aaaf-4294-852b-13c2b10140ee"
      },
      "outputs": [],
      "source": [
        "# Get plot of groups connections\n",
        "get_similar_groups(test)"
      ]
    },
    {
      "cell_type": "code",
      "execution_count": null,
      "id": "6e64c780-7700-46e2-8173-a46fdeb189e6",
      "metadata": {
        "id": "6e64c780-7700-46e2-8173-a46fdeb189e6"
      },
      "outputs": [],
      "source": [
        "prop_death(obesity_binary_imm, \"death_immidiate\")"
      ]
    },
    {
      "cell_type": "markdown",
      "id": "c8df70cd-bb07-48ab-b335-a4f87a0ea230",
      "metadata": {
        "tags": [],
        "id": "c8df70cd-bb07-48ab-b335-a4f87a0ea230"
      },
      "source": [
        "##### **2. After 1 year**"
      ]
    },
    {
      "cell_type": "code",
      "execution_count": null,
      "id": "228619dd-5b5e-4ce8-8891-c1ba12bc8f88",
      "metadata": {
        "id": "228619dd-5b5e-4ce8-8891-c1ba12bc8f88"
      },
      "outputs": [],
      "source": [
        "# Select only columns with binary_death, age, gender and bmi group\n",
        "obesity_binary_one_year <- obesity_binary[c(38,2:3,6)]"
      ]
    },
    {
      "cell_type": "code",
      "execution_count": null,
      "id": "79fa31d0-4fea-44a9-8ad6-47f1874fb894",
      "metadata": {
        "id": "79fa31d0-4fea-44a9-8ad6-47f1874fb894"
      },
      "outputs": [],
      "source": [
        "logistic_model_from_list_with_groups(obesity_binary_one_year,  \"death_after_one_year\")"
      ]
    },
    {
      "cell_type": "code",
      "execution_count": null,
      "id": "57cf49e6-5a40-4581-a778-b5f7b638f19e",
      "metadata": {
        "id": "57cf49e6-5a40-4581-a778-b5f7b638f19e"
      },
      "outputs": [],
      "source": [
        "# Use Kruskal Wallis test\n",
        "kruskal.test(obesity_binary_one_year$death_after_one_year ~ bmi_group,\n",
        "                    data = obesity_binary_one_year)"
      ]
    },
    {
      "cell_type": "code",
      "execution_count": null,
      "id": "e108487f-2cd7-4349-b212-461f3f87fdd1",
      "metadata": {
        "id": "e108487f-2cd7-4349-b212-461f3f87fdd1"
      },
      "outputs": [],
      "source": [
        "# Get list that contain death_immidiate values for each bmi group \n",
        "obesity_one_year_values <- find_death_values(obesity_binary_one_year)\n",
        "\n",
        "# Perform Dunn's Test with bonferroni correction for death_immidiate values\n",
        "test <- dunn.test(x=obesity_one_year_values, method=\"bonferroni\")"
      ]
    },
    {
      "cell_type": "code",
      "execution_count": null,
      "id": "e8bd1f32-12ef-4521-928e-e750f0dd24d1",
      "metadata": {
        "id": "e8bd1f32-12ef-4521-928e-e750f0dd24d1"
      },
      "outputs": [],
      "source": [
        "# Get plot of groups connections\n",
        "get_similar_groups(test)"
      ]
    },
    {
      "cell_type": "code",
      "execution_count": null,
      "id": "32f763fc-dcc4-4910-adc2-12a98ddcfc37",
      "metadata": {
        "id": "32f763fc-dcc4-4910-adc2-12a98ddcfc37"
      },
      "outputs": [],
      "source": [
        "prop_death(obesity_binary_one_year,  \"death_after_one_year\")"
      ]
    },
    {
      "cell_type": "markdown",
      "id": "af9c9d7f-d8a3-403e-8acd-1738f624ed26",
      "metadata": {
        "tags": [],
        "id": "af9c9d7f-d8a3-403e-8acd-1738f624ed26"
      },
      "source": [
        "##### **3. After 5 years**"
      ]
    },
    {
      "cell_type": "code",
      "execution_count": null,
      "id": "119c7560-f323-4ee0-a9b6-09a860f3d1a8",
      "metadata": {
        "id": "119c7560-f323-4ee0-a9b6-09a860f3d1a8"
      },
      "outputs": [],
      "source": [
        "# Select only columns with binary_death, age, gender and bmi\n",
        "# 2017-07-02 is the latest cohort_end_date\n",
        "not_include_5_years = obesity_binary %>% filter(as.Date(cohort_start_date) > '2017-07-02') %>% select(person_id)\n",
        "obesity_binary_five_years <- obesity_binary %>% filter(!(person_id %in% not_include_5_years$person_id))\n",
        "obesity_binary_five_years <- obesity_binary_five_years[c(39,2:3,6)]"
      ]
    },
    {
      "cell_type": "code",
      "execution_count": null,
      "id": "d828dc1f-3204-4dfc-87e5-7973748028e3",
      "metadata": {
        "id": "d828dc1f-3204-4dfc-87e5-7973748028e3"
      },
      "outputs": [],
      "source": [
        "logistic_model_from_list_with_groups(obesity_binary_five_years,  \"death_after_five_years\")"
      ]
    },
    {
      "cell_type": "code",
      "execution_count": null,
      "id": "e4d4d7a0-93fd-42cd-89d4-2752d964a7c1",
      "metadata": {
        "id": "e4d4d7a0-93fd-42cd-89d4-2752d964a7c1"
      },
      "outputs": [],
      "source": [
        "# Use Kruskal Wallis test\n",
        "kruskal.test(obesity_binary_five_years$death_after_five_years ~ bmi_group,\n",
        "                    data = obesity_binary_five_years)"
      ]
    },
    {
      "cell_type": "code",
      "execution_count": null,
      "id": "9fc3e0f0-08f1-4697-a8ba-be291dba3659",
      "metadata": {
        "id": "9fc3e0f0-08f1-4697-a8ba-be291dba3659"
      },
      "outputs": [],
      "source": [
        "# Get list that contain death_immidiate values for each bmi group \n",
        "obesity_one_year_values <- find_death_values(obesity_binary_five_years)\n",
        "\n",
        "# Perform Dunn's Test with bonferroni correction for death_immidiate values\n",
        "test <- dunn.test(x=obesity_one_year_values, method=\"bonferroni\")"
      ]
    },
    {
      "cell_type": "code",
      "execution_count": null,
      "id": "57509f52-053e-4e58-b125-ba8950479ffe",
      "metadata": {
        "id": "57509f52-053e-4e58-b125-ba8950479ffe"
      },
      "outputs": [],
      "source": [
        "# Get plot of groups connections\n",
        "get_similar_groups(test)"
      ]
    },
    {
      "cell_type": "code",
      "execution_count": null,
      "id": "b48bbe3b-bbce-4d36-a1d9-5266814f7fcc",
      "metadata": {
        "id": "b48bbe3b-bbce-4d36-a1d9-5266814f7fcc"
      },
      "outputs": [],
      "source": [
        "prop_death(obesity_binary_five_years,  \"death_after_five_years\")"
      ]
    },
    {
      "cell_type": "markdown",
      "id": "e04bff4a-eb8c-4d22-848c-f79057438cf1",
      "metadata": {
        "id": "e04bff4a-eb8c-4d22-848c-f79057438cf1"
      },
      "source": [
        "##### **Plot the Odds ratio by period and BMI group**"
      ]
    },
    {
      "cell_type": "code",
      "execution_count": null,
      "id": "fbc42d71-5da1-4aa0-b677-3643fd887173",
      "metadata": {
        "id": "fbc42d71-5da1-4aa0-b677-3643fd887173"
      },
      "outputs": [],
      "source": [
        "full_odd <-  imm_res %>% select('adj_OR')\n",
        "full_odd <- merge(full_odd, one_year_res[ , c(\"adj_OR\"), drop=FALSE], by=\"row.names\", all=TRUE)\n",
        "rownames(full_odd) <- full_odd$Row.names\n",
        "full_odd$Row.names <- NULL\n",
        "full_odd <- merge(full_odd, five_year_res[ , \"adj_OR\", drop=FALSE], by=\"row.names\", all=TRUE)\n",
        "colnames(full_odd)[2:4] <- c('imm_OR', 'one_year_OR', 'five_years_OR')\n",
        "full_odd <- rbind(full_odd, c('bmi_groupBMI group 18.5-25', 1.,1.,1.))\n",
        "full_odd <- full_odd[grep('^bmi_group', full_odd$Row.names),]\n",
        "full_odd$Row.names <- gsub('bmi_groupBMI group ', '', full_odd$Row.names)\n",
        "colnames(full_odd) <- c('BMI_Group', \"Immidiate time\", \"1 year\", \"5 years\")\n",
        "full_odd"
      ]
    },
    {
      "cell_type": "code",
      "execution_count": null,
      "id": "5dbe5aa1-b084-440a-b2b0-1da772c8b67e",
      "metadata": {
        "id": "5dbe5aa1-b084-440a-b2b0-1da772c8b67e"
      },
      "outputs": [],
      "source": [
        "full_odd <- full_odd %>% pivot_longer(!BMI_Group, names_to = 'period', values_to='Odds Ratio')\n",
        "full_odd$period <- as.factor(full_odd$period)\n",
        "full_odd$BMI_Group <- as.factor(full_odd$BMI_Group)\n",
        "full_odd$`Odds Ratio` <- as.numeric(full_odd$`Odds Ratio`)\n",
        "head(full_odd)"
      ]
    },
    {
      "cell_type": "code",
      "execution_count": null,
      "id": "f0aea4c1-0728-40fb-a6e5-bb6089f54794",
      "metadata": {
        "id": "f0aea4c1-0728-40fb-a6e5-bb6089f54794"
      },
      "outputs": [],
      "source": [
        "ggplot(full_odd, aes(fill=period, y=`Odds Ratio`, x=BMI_Group)) + geom_bar(position=\"dodge\", stat=\"identity\") +\n",
        "labs(x = \"BMI groups\", y=\"Odds ratio\", title=\"How BMI groups affects hospitalized mortality rate\",\n",
        "       subtitle = \"Divided by different time periods\") +\n",
        "scale_y_continuous(limits = c(0, 3), breaks = seq(0, 3, by = 0.5)) +\n",
        "facet_grid(~fct_relevel(period,\"Immidiate time\",\"1 year\",\"5 years\")) +\n",
        "theme_bw() +\n",
        "theme(axis.text = element_text(size = 11),\n",
        "      axis.text.x = element_text(angle = 30, vjust = 0.5, hjust=1),\n",
        "      axis.title.y = element_text(hjust=0.5,size = 14),\n",
        "      legend.title = element_text(face=\"bold\", size=13),\n",
        "      legend.text = element_text(size=13),\n",
        "      plot.title = element_text(face=\"bold\",size = 14), \n",
        "      plot.subtitle = element_text(, size = 13), \n",
        "      strip.text.x = element_text(size = 13)) # Facet titles"
      ]
    },
    {
      "cell_type": "code",
      "execution_count": null,
      "id": "bbf05eba-c709-4b9a-84f0-916bb2155cbf",
      "metadata": {
        "id": "bbf05eba-c709-4b9a-84f0-916bb2155cbf"
      },
      "outputs": [],
      "source": [
        "options(repr.plot.width = 10, repr.plot.height = 7)\n",
        "ggplot(full_odd, aes(x=BMI_Group, group = period, colour = period, y=`Odds Ratio`)) + \n",
        "    geom_line() +\n",
        "    theme_linedraw() +\n",
        "    labs(x = \"BMI groups\", y=\"Odds ratio\", title=\"How BMI groups affects hospitalized mortality rate\",\n",
        "    subtitle = \"Divided by different time periods\") +\n",
        "    theme(plot.title = element_text(face=\"bold\",size = 14), \n",
        "          axis.title.x = element_text(hjust=0.5,size = 14),\n",
        "          axis.title.y = element_text(hjust=0.5,size = 14),\n",
        "          plot.subtitle = element_text(, size = 13), \n",
        "          legend.title = element_text(face=\"bold\", size=13),\n",
        "          panel.grid = element_line(\n",
        "                                  linewidth = 0.9,\n",
        "                                  linetype = 2),\n",
        "          axis.text = element_text(size = 11),\n",
        "          axis.text.x=element_text(angle=30,hjust=1)) + \n",
        "        scale_y_continuous(limits = c(0, 2.5), breaks = seq(0, 2.5, by = 0.5)) +\n",
        "        annotate(geom=\"text\", x= 0.7 , y=2.3, label=\"Immidiate\", color=\"indianred1\",size = 4.5) +\n",
        "        annotate(geom=\"text\", x= 0.7 , y=2.5, label=\"One year\", color=\"green3\",size = 4.5) + \n",
        "        annotate(geom=\"text\", x= 0.7 , y=2.1, label=\"Five years\", color=\"deepskyblue2\",size = 4.5)"
      ]
    },
    {
      "cell_type": "markdown",
      "id": "7d1f7ae8-e10d-495c-97f1-c88a4009cb38",
      "metadata": {
        "tags": [],
        "id": "7d1f7ae8-e10d-495c-97f1-c88a4009cb38"
      },
      "source": [
        "##### **death ~ bmi + gender + age + age_greater_65 + age_greater_65*bmi**"
      ]
    },
    {
      "cell_type": "markdown",
      "id": "d5793341-dfa6-4a63-bc93-5e258c5edc34",
      "metadata": {
        "tags": [],
        "id": "d5793341-dfa6-4a63-bc93-5e258c5edc34"
      },
      "source": [
        "##### **1. Immidiate time**"
      ]
    },
    {
      "cell_type": "code",
      "execution_count": null,
      "id": "5dde8455-a10e-4338-a398-2be894712512",
      "metadata": {
        "id": "5dde8455-a10e-4338-a398-2be894712512"
      },
      "outputs": [],
      "source": [
        "# Select only columns with age, gender and bmi \n",
        "obesity_binary_imm <- obesity_binary[c(37,2:3,8)]\n",
        "obesity_binary_imm <- obesity_binary_imm %>% mutate(age_greater_65 = ifelse(age >= 65 , 1, 0))"
      ]
    },
    {
      "cell_type": "code",
      "execution_count": null,
      "id": "395c9eec-1102-4dcf-b8b6-ce9783df2549",
      "metadata": {
        "id": "395c9eec-1102-4dcf-b8b6-ce9783df2549"
      },
      "outputs": [],
      "source": [
        "logistic_model_from_list_with_interaction(obesity_binary_imm,  \"death_immidiate\")"
      ]
    },
    {
      "cell_type": "markdown",
      "id": "9657fec8-0760-4e20-8737-344220ccf431",
      "metadata": {
        "tags": [],
        "id": "9657fec8-0760-4e20-8737-344220ccf431"
      },
      "source": [
        "##### **2. After 1 year**"
      ]
    },
    {
      "cell_type": "code",
      "execution_count": null,
      "id": "be1d6c07-d6f9-4b61-92de-a32a0b539e6e",
      "metadata": {
        "id": "be1d6c07-d6f9-4b61-92de-a32a0b539e6e"
      },
      "outputs": [],
      "source": [
        "# Select only columns with age, gender and bmi \n",
        "obesity_binary_one_year <- obesity_binary[c(38,2:3,8)]\n",
        "obesity_binary_one_year <- obesity_binary_one_year %>% mutate(age_greater_65 = ifelse(age >= 65 , 1, 0))"
      ]
    },
    {
      "cell_type": "code",
      "execution_count": null,
      "id": "f508d395-25ef-44d8-bc9a-640f2e43e36a",
      "metadata": {
        "id": "f508d395-25ef-44d8-bc9a-640f2e43e36a"
      },
      "outputs": [],
      "source": [
        "logistic_model_from_list_with_interaction(obesity_binary_one_year,  \"death_after_one_year\")"
      ]
    },
    {
      "cell_type": "markdown",
      "id": "cc64ec72-203c-4970-9183-891d6c7558ab",
      "metadata": {
        "tags": [],
        "id": "cc64ec72-203c-4970-9183-891d6c7558ab"
      },
      "source": [
        "##### **3. After 5 years**"
      ]
    },
    {
      "cell_type": "code",
      "execution_count": null,
      "id": "90cdb0f1-b074-42d1-8d0a-fa270a86f6ac",
      "metadata": {
        "id": "90cdb0f1-b074-42d1-8d0a-fa270a86f6ac"
      },
      "outputs": [],
      "source": [
        "# Select only columns with age, gender and bmi \n",
        "# 2017-07-02 is the latest cohort_end_date\n",
        "not_include_5_years = obesity_binary %>% filter(as.Date(cohort_start_date) > '2017-07-02') %>% select(person_id)\n",
        "obesity_binary_five_years <- obesity_binary %>% filter(!(person_id %in% not_include_5_years$person_id))\n",
        "obesity_binary_five_years <- obesity_binary_five_years[c(39,2:3,8)]\n",
        "obesity_binary_five_years <- obesity_binary_five_years %>% mutate(age_greater_65 = ifelse(age >= 65 , 1, 0))"
      ]
    },
    {
      "cell_type": "code",
      "execution_count": null,
      "id": "32c8fbca-b282-4c81-8dab-73987daa2a90",
      "metadata": {
        "id": "32c8fbca-b282-4c81-8dab-73987daa2a90"
      },
      "outputs": [],
      "source": [
        "logistic_model_from_list_with_interaction(obesity_binary_five_years,  \"death_after_five_years\")"
      ]
    },
    {
      "cell_type": "code",
      "execution_count": null,
      "id": "884bf443-c9d4-45c5-b8d1-1829d9e33c9e",
      "metadata": {
        "id": "884bf443-c9d4-45c5-b8d1-1829d9e33c9e"
      },
      "outputs": [],
      "source": [
        "##########################################"
      ]
    },
    {
      "cell_type": "markdown",
      "id": "d0b411b8-cc24-40e9-9cdc-03f21255c797",
      "metadata": {
        "tags": [],
        "id": "d0b411b8-cc24-40e9-9cdc-03f21255c797"
      },
      "source": [
        "#### **Survival analysis**"
      ]
    },
    {
      "cell_type": "code",
      "execution_count": null,
      "id": "9724a0eb-74da-4caa-bfa2-15e992239385",
      "metadata": {
        "id": "9724a0eb-74da-4caa-bfa2-15e992239385"
      },
      "outputs": [],
      "source": [
        "library(\"survival\")"
      ]
    },
    {
      "cell_type": "code",
      "execution_count": null,
      "id": "cb42257d-8fd9-4bf2-bacc-c021dc918e99",
      "metadata": {
        "id": "cb42257d-8fd9-4bf2-bacc-c021dc918e99"
      },
      "outputs": [],
      "source": [
        "library(\"survminer\")"
      ]
    },
    {
      "cell_type": "code",
      "execution_count": null,
      "id": "be014882-4d26-4fbf-9f67-ef726a180374",
      "metadata": {
        "id": "be014882-4d26-4fbf-9f67-ef726a180374"
      },
      "outputs": [],
      "source": [
        "head(obesity, 5)"
      ]
    },
    {
      "cell_type": "markdown",
      "id": "f90bbc73-da9a-42dc-850f-27dba28e50ea",
      "metadata": {
        "id": "f90bbc73-da9a-42dc-850f-27dba28e50ea"
      },
      "source": [
        "**Time_to_event (in days)= min(cohort_end_date, death_date, cohort_start_date + X years) - cohort_start_date**\n",
        "\n",
        "**Types of events:**\n",
        "\n",
        "1. Discontinuation of patient follow-up\n",
        "2. Death of the patient\n",
        "3. A patient has not (yet) experienced the event of interest"
      ]
    },
    {
      "cell_type": "code",
      "execution_count": null,
      "id": "ef947aa3-17f2-4520-bd7b-1f8c9864dd57",
      "metadata": {
        "id": "ef947aa3-17f2-4520-bd7b-1f8c9864dd57"
      },
      "outputs": [],
      "source": [
        "obesity_binary <- add_binary_deaths(obesity)\n",
        "\n",
        "# Finding the time when a person dies/ no longer participates in the study/ not in the time frame\n",
        "obesity_binary <- obesity_binary %>% rowwise() %>% mutate(time_to_event_imm = ifelse(!is.na(death_date), min(as.Date(cohort_end_date), as.Date(death_date) ,as.Date(cohort_start_date) + 90) - cohort_start_date,\n",
        "                                                                                min(as.Date(cohort_end_date),as.Date(cohort_start_date) + 90) - cohort_start_date),\n",
        "                                                         time_to_event_one_year = ifelse(!is.na(death_date), min(as.Date(cohort_end_date), as.Date(death_date) ,as.Date(cohort_start_date) + 365) - cohort_start_date,\n",
        "                                                                                min(as.Date(cohort_end_date),as.Date(cohort_start_date) + 365) - cohort_start_date),\n",
        "                                                         time_to_event_five_years = ifelse(!is.na(death_date), min(as.Date(cohort_end_date), as.Date(death_date) ,as.Date(cohort_start_date) + 5*365 + 1) - cohort_start_date,\n",
        "                                                                                min(as.Date(cohort_end_date),as.Date(cohort_start_date) + 5*365 + 1) - cohort_start_date))"
      ]
    },
    {
      "cell_type": "markdown",
      "id": "c3b5501a-4ae4-4e50-bc34-2a4ffc689251",
      "metadata": {
        "tags": [],
        "id": "c3b5501a-4ae4-4e50-bc34-2a4ffc689251"
      },
      "source": [
        "#### Continuous BMI"
      ]
    },
    {
      "cell_type": "markdown",
      "id": "5461757a-a13c-49f8-96b2-470aec539a41",
      "metadata": {
        "tags": [],
        "id": "5461757a-a13c-49f8-96b2-470aec539a41"
      },
      "source": [
        "##### **1. Immidiate time**"
      ]
    },
    {
      "cell_type": "code",
      "execution_count": null,
      "id": "add047bd-2b01-41f1-b5a5-305abdeed489",
      "metadata": {
        "id": "add047bd-2b01-41f1-b5a5-305abdeed489"
      },
      "outputs": [],
      "source": [
        "# Select only columns with binary_death, time_to_event, bmi, age, gender\n",
        "obesity_binary_imm <- obesity_binary[c(37,40,2:3,8)]"
      ]
    },
    {
      "cell_type": "code",
      "execution_count": null,
      "id": "ec4e72e6-209a-40f3-862d-43bac595f1d4",
      "metadata": {
        "id": "ec4e72e6-209a-40f3-862d-43bac595f1d4"
      },
      "outputs": [],
      "source": [
        "# Survival analisys model for immidiate time period\n",
        "coxph_model_from_list(obesity_binary_imm,\"time_to_event_imm\", \"death_immidiate\")"
      ]
    },
    {
      "cell_type": "markdown",
      "id": "52d976d0-1470-451f-bc3d-44ce6ea04f4a",
      "metadata": {
        "tags": [],
        "id": "52d976d0-1470-451f-bc3d-44ce6ea04f4a"
      },
      "source": [
        "##### **2. After 1 year**"
      ]
    },
    {
      "cell_type": "code",
      "execution_count": null,
      "id": "ef20a5c4-944b-447e-8f49-b0b6a5148306",
      "metadata": {
        "id": "ef20a5c4-944b-447e-8f49-b0b6a5148306"
      },
      "outputs": [],
      "source": [
        "# Select only columns with binary_death, time_to_event, bmi, age, gender\n",
        "obesity_binary_one_year <- obesity_binary[c(38,41,2:3,8)]"
      ]
    },
    {
      "cell_type": "code",
      "execution_count": null,
      "id": "4192b788-117b-43cf-b379-9b71793eb821",
      "metadata": {
        "id": "4192b788-117b-43cf-b379-9b71793eb821"
      },
      "outputs": [],
      "source": [
        "# Survival analisys model for one year period\n",
        "coxph_model_from_list(obesity_binary_one_year,\"time_to_event_one_year\", \"death_after_one_year\")"
      ]
    },
    {
      "cell_type": "markdown",
      "id": "f1b1ef43-1971-4073-9ab4-b7a689ac972b",
      "metadata": {
        "tags": [],
        "id": "f1b1ef43-1971-4073-9ab4-b7a689ac972b"
      },
      "source": [
        "##### **3. After 5 years**"
      ]
    },
    {
      "cell_type": "code",
      "execution_count": null,
      "id": "7653ea1a-90c5-4423-ad04-9e1f0c28c197",
      "metadata": {
        "id": "7653ea1a-90c5-4423-ad04-9e1f0c28c197"
      },
      "outputs": [],
      "source": [
        "# Select only columns with binary_death, time_to_event, bmi, age, gender\n",
        "obesity_binary_five_years <- obesity_binary[c(39,42,2:3,8)]"
      ]
    },
    {
      "cell_type": "code",
      "execution_count": null,
      "id": "271f1213-9f8e-4ec7-9ced-016aa3f678b7",
      "metadata": {
        "id": "271f1213-9f8e-4ec7-9ced-016aa3f678b7"
      },
      "outputs": [],
      "source": [
        "# Survival analisys model for five years period\n",
        "coxph_model_from_list(obesity_binary_five_years,\"time_to_event_five_years\", \"death_after_five_years\")"
      ]
    },
    {
      "cell_type": "code",
      "execution_count": null,
      "id": "a633c6c3-01a9-406e-ada3-eb25a7373f58",
      "metadata": {
        "id": "a633c6c3-01a9-406e-ada3-eb25a7373f58"
      },
      "outputs": [],
      "source": [
        "# Plot the baseline survival function\n",
        "five_years_res <- coxph_graph(obesity_binary_five_years,\"time_to_event_five_years\", \"death_after_five_years\")\n",
        "ggsurvplot(survfit(five_years_res), legend = \"none\", xlab = \"Time from hospitalization (days)\", font.x = c(14),font.y = c(14),\n",
        "           palette = '#2E9FDF',\n",
        "           ggtheme = theme_minimal(), data = obesity_binary_five_years)"
      ]
    },
    {
      "cell_type": "code",
      "execution_count": null,
      "id": "5677f80f-05a2-49ff-ab09-ac16e8ba4143",
      "metadata": {
        "id": "5677f80f-05a2-49ff-ab09-ac16e8ba4143"
      },
      "outputs": [],
      "source": [
        "#################################################"
      ]
    },
    {
      "cell_type": "markdown",
      "id": "dba21c94-8997-4ab3-80e7-11f26f7ee275",
      "metadata": {
        "tags": [],
        "id": "dba21c94-8997-4ab3-80e7-11f26f7ee275"
      },
      "source": [
        "#### BMI groups"
      ]
    },
    {
      "cell_type": "markdown",
      "id": "4bdb7bea-c2b5-478f-ba40-49962c92c9cf",
      "metadata": {
        "tags": [],
        "id": "4bdb7bea-c2b5-478f-ba40-49962c92c9cf"
      },
      "source": [
        "##### **1. Immidiate time**"
      ]
    },
    {
      "cell_type": "code",
      "execution_count": null,
      "id": "99b08b85-5bc6-468c-9591-fc3bd8d2be8c",
      "metadata": {
        "id": "99b08b85-5bc6-468c-9591-fc3bd8d2be8c"
      },
      "outputs": [],
      "source": [
        "# Select only columns with binary_death, time_to_event, bmi_groups, age, gender\n",
        "obesity_binary_imm <- obesity_binary[c(37,40,2:3,6)]\n",
        "\n",
        "obesity_binary_imm <- obesity_binary_imm %>% mutate(bmi_group = as.factor(bmi_group))\n",
        "obesity_binary_imm <- obesity_binary_imm %>%\n",
        "      mutate(bmi_group = relevel(bmi_group, ref = \"BMI group 18.5-25\"))"
      ]
    },
    {
      "cell_type": "code",
      "execution_count": null,
      "id": "8757ebf1-878b-4034-85a4-88c8e6eef720",
      "metadata": {
        "id": "8757ebf1-878b-4034-85a4-88c8e6eef720"
      },
      "outputs": [],
      "source": [
        "# Survival analisys groups model for immidiate time period\n",
        "coxph_group_model_from_list(obesity_binary_imm,\"time_to_event_imm\", \"death_immidiate\") %>% arrange(term)"
      ]
    },
    {
      "cell_type": "code",
      "execution_count": null,
      "id": "794d1f8d-d21e-4004-bd7f-4d41a77a801f",
      "metadata": {
        "id": "794d1f8d-d21e-4004-bd7f-4d41a77a801f"
      },
      "outputs": [],
      "source": [
        "obesity_binary_imm <- obesity_binary[c(37,40,2:3,6)]\n",
        "prop_death(obesity_binary_imm, \"death_immidiate\") "
      ]
    },
    {
      "cell_type": "code",
      "execution_count": null,
      "id": "82d794ad-f553-40bc-b420-d1cb865841d0",
      "metadata": {
        "id": "82d794ad-f553-40bc-b420-d1cb865841d0"
      },
      "outputs": [],
      "source": [
        "# Plot the baseline survival function\n",
        "options(repr.plot.width = 10, repr.plot.height = 7)\n",
        "fit <- survfit(Surv(time_to_event_imm, death_immidiate) ~ bmi_group, data = obesity_binary_imm )\n",
        "ggsurvplot(fit,title = \"Survival probabilty by time from hospitalization\", subtitle = \"Immidiate time period: 90 days\", legend = \"right\", legend.labs = c(\"15-18.5\",\"18.5-25\",\"25-30\", \"30-35\", \"35-40\",\"40-45\"),legend.title = \"BMI group\", xlab = \"Time from hospitalization (days)\", font.x = c(14),font.y = c(14),font.legend = c(13),font.title = c(14,\"bold\"),font.subtitle =c(13),ylim = c(0.7,1),\n",
        "          risk.table.col = \"strata\", # Change risk table color by groups\n",
        "          ggtheme = theme_bw(), # Change ggplot2 theme\n",
        "          xlim = c(0, 100)) +\n",
        "  guides(color = guide_legend(reverse=TRUE))"
      ]
    },
    {
      "cell_type": "markdown",
      "id": "23da1e0f-2440-4e94-876d-7d84ec11d5ff",
      "metadata": {
        "id": "23da1e0f-2440-4e94-876d-7d84ec11d5ff"
      },
      "source": [
        "##### **2. After 1 year**"
      ]
    },
    {
      "cell_type": "code",
      "execution_count": null,
      "id": "5e4aef66-f4bf-4d72-92e0-37c0a54a2af3",
      "metadata": {
        "id": "5e4aef66-f4bf-4d72-92e0-37c0a54a2af3"
      },
      "outputs": [],
      "source": [
        "# Select only columns with binary_death, time_to_event, bmi_groups, age, gender\n",
        "obesity_binary_one_year <- obesity_binary[c(38,41,2:3,6)]\n",
        "obesity_binary_one_year <- obesity_binary_one_year %>% mutate(bmi_group = as.factor(bmi_group))\n",
        "obesity_binary_one_year <- obesity_binary_one_year %>%\n",
        "      mutate(bmi_group = relevel(bmi_group, ref = \"BMI group 18.5-25\"))"
      ]
    },
    {
      "cell_type": "code",
      "execution_count": null,
      "id": "1317017d-d36a-4061-8169-db39edaf5dca",
      "metadata": {
        "id": "1317017d-d36a-4061-8169-db39edaf5dca"
      },
      "outputs": [],
      "source": [
        "# Survival analisys groups model for one year period\n",
        "coxph_group_model_from_list(obesity_binary_one_year,\"time_to_event_one_year\", \"death_after_one_year\") %>% arrange(term)"
      ]
    },
    {
      "cell_type": "code",
      "execution_count": null,
      "id": "575e1473-12b9-47e1-8910-8a6747f7dcdb",
      "metadata": {
        "id": "575e1473-12b9-47e1-8910-8a6747f7dcdb"
      },
      "outputs": [],
      "source": [
        "obesity_binary_one_year <- obesity_binary[c(38,41,2:3,6)]\n",
        "prop_death(obesity_binary_one_year, \"death_after_one_year\") "
      ]
    },
    {
      "cell_type": "code",
      "execution_count": null,
      "id": "acc0ea21-4776-45c8-aa95-1856254d59bb",
      "metadata": {
        "id": "acc0ea21-4776-45c8-aa95-1856254d59bb"
      },
      "outputs": [],
      "source": [
        "# Plot the baseline survival function\n",
        "options(repr.plot.width = 10, repr.plot.height = 7)\n",
        "fit <- survfit(Surv(time_to_event_one_year, death_after_one_year) ~ bmi_group, data = obesity_binary_one_year )\n",
        "ggsurvplot(fit,title = \"Survival probabilty by time from hospitalization\", subtitle = \"One year period\", legend = \"right\", legend.labs = c(\"15-18.5\",\"18.5-25\",\"25-30\", \"30-35\", \"35-40\",\"40-45\"),legend.title = \"BMI group\", xlab = \"Time from hospitalization (days)\", font.x = c(14),font.y = c(14),font.legend = c(13),font.title = c(14,\"bold\"),font.subtitle =c(13),ylim = c(0.5,1),\n",
        "          risk.table.col = \"strata\", # Change risk table color by groups\n",
        "          ggtheme = theme_bw(), # Change ggplot2 theme\n",
        "          xlim = c(0, 400)) +\n",
        "  guides(color = guide_legend(reverse=TRUE))"
      ]
    },
    {
      "cell_type": "markdown",
      "id": "444337e3-281f-4de5-82e9-650eab81e1e4",
      "metadata": {
        "tags": [],
        "id": "444337e3-281f-4de5-82e9-650eab81e1e4"
      },
      "source": [
        "##### **3. After 5 years**"
      ]
    },
    {
      "cell_type": "code",
      "execution_count": null,
      "id": "e5e7ed8c-9356-4b73-9f33-b10dfd4a0268",
      "metadata": {
        "id": "e5e7ed8c-9356-4b73-9f33-b10dfd4a0268"
      },
      "outputs": [],
      "source": [
        "# Select only columns with binary_death, time_to_event, bmi_groups, age, gender\n",
        "obesity_binary_five_years <- obesity_binary[c(39,42,2:3,6)]\n",
        "\n",
        "obesity_binary_five_years <- obesity_binary_five_years %>% mutate(bmi_group = as.factor(bmi_group))\n",
        "obesity_binary_five_years <- obesity_binary_five_years %>%\n",
        "      mutate(bmi_group = relevel(bmi_group, ref = \"BMI group 18.5-25\"))"
      ]
    },
    {
      "cell_type": "code",
      "execution_count": null,
      "id": "d953ef40-6741-4b57-80a6-6a56722eef89",
      "metadata": {
        "id": "d953ef40-6741-4b57-80a6-6a56722eef89"
      },
      "outputs": [],
      "source": [
        "# Survival analisys groups model for 5 years period\n",
        "coxph_group_model_from_list(obesity_binary_five_years,\"time_to_event_five_years\", \"death_after_five_years\") %>% arrange(term)"
      ]
    },
    {
      "cell_type": "code",
      "execution_count": null,
      "id": "d8aa1f5f-83e5-4320-8406-440a80fc56fb",
      "metadata": {
        "id": "d8aa1f5f-83e5-4320-8406-440a80fc56fb"
      },
      "outputs": [],
      "source": [
        "obesity_binary_five_years <- obesity_binary[c(39,42,2:3,6)]\n",
        "prop_death(obesity_binary_five_years, \"death_after_five_years\") "
      ]
    },
    {
      "cell_type": "code",
      "execution_count": null,
      "id": "0279297f-0ca3-4d79-b8f8-50a409d5d34b",
      "metadata": {
        "id": "0279297f-0ca3-4d79-b8f8-50a409d5d34b"
      },
      "outputs": [],
      "source": [
        "# Plot the baseline survival function\n",
        "options(repr.plot.width = 10, repr.plot.height = 7)\n",
        "fit <- survfit(Surv(time_to_event_five_years, death_after_five_years) ~ bmi_group, data = obesity_binary_five_years )\n",
        "ggsurvplot(fit,title = \"Survival probabilty by time from hospitalization\", subtitle = \"Five years period\", legend = \"right\", legend.labs = c(\"15-18.5\",\"18.5-25\",\"25-30\", \"30-35\", \"35-40\",\"40-45\"),legend.title = \"BMI group\", xlab = \"Time from hospitalization (days)\", font.x = c(14),font.y = c(14),font.legend = c(13),font.title = c(14,\"bold\"),font.subtitle =c(13),ylim = c(0.25,1),\n",
        "          risk.table.col = \"strata\", # Change risk table color by groups\n",
        "          ggtheme = theme_bw(), # Change ggplot2 theme\n",
        "          xlim = c(0, 5*365 + 1)) +\n",
        "  guides(color = guide_legend(reverse=TRUE))"
      ]
    },
    {
      "cell_type": "code",
      "execution_count": null,
      "id": "b6ceaa2e-b2d2-488d-acfd-4f81c83d8e76",
      "metadata": {
        "id": "b6ceaa2e-b2d2-488d-acfd-4f81c83d8e76"
      },
      "outputs": [],
      "source": [
        "#################################################"
      ]
    },
    {
      "cell_type": "markdown",
      "id": "7ddc5a42-3de9-481c-a553-38073802cd3a",
      "metadata": {
        "tags": [],
        "id": "7ddc5a42-3de9-481c-a553-38073802cd3a"
      },
      "source": [
        "### **Second research question - what is the association of BMI and additional hospitalization outcomes:**"
      ]
    },
    {
      "cell_type": "markdown",
      "id": "8004562c-7a66-44eb-ad50-913e16630301",
      "metadata": {
        "id": "8004562c-7a66-44eb-ad50-913e16630301"
      },
      "source": [
        "#### **Duration of hospitalizaion**"
      ]
    },
    {
      "cell_type": "code",
      "execution_count": null,
      "id": "1492ada6-9c2a-4cbb-8292-2f643da02ad4",
      "metadata": {
        "id": "1492ada6-9c2a-4cbb-8292-2f643da02ad4"
      },
      "outputs": [],
      "source": [
        "# Read obesity_duration\n",
        "obesity_duration <- readRDS(\"obesity_duration.RDS\")"
      ]
    },
    {
      "cell_type": "code",
      "execution_count": null,
      "id": "efb7f432-9686-400f-a4e5-68a3f39290e5",
      "metadata": {
        "id": "efb7f432-9686-400f-a4e5-68a3f39290e5"
      },
      "outputs": [],
      "source": [
        "# Select only columns with days_of_hospitalization, age, gender and bmi\n",
        "obesity_duration_bmi <- obesity_duration[c(37,2:3,8)]\n",
        "obesity_duration_bmi <- obesity_duration_bmi %>% filter(!(is.na(days_of_hospitalization)))"
      ]
    },
    {
      "cell_type": "code",
      "execution_count": null,
      "id": "b5ef498c-c244-4034-b521-3834734a2709",
      "metadata": {
        "id": "b5ef498c-c244-4034-b521-3834734a2709"
      },
      "outputs": [],
      "source": [
        "# Select only columns with days_of_hospitalization, age, gender and bmi groups\n",
        "obesity_duration_bmi_group <- obesity_duration[c(37,2:3,6)]\n",
        "obesity_duration_bmi_group <- obesity_duration_bmi_group %>% filter(!(is.na(days_of_hospitalization)))\n",
        "obesity_duration_bmi_group <- obesity_duration_bmi_group %>% mutate(bmi_group = as.factor(bmi_group))\n",
        "    obesity_duration_bmi_group <- obesity_duration_bmi_group %>%\n",
        "      mutate(bmi_group = relevel(bmi_group, ref = \"BMI group 18.5-25\"))"
      ]
    },
    {
      "cell_type": "markdown",
      "id": "c1550af8-017d-4147-9643-1c4129324b92",
      "metadata": {
        "id": "c1550af8-017d-4147-9643-1c4129324b92"
      },
      "source": [
        "##### **Get the linear model**"
      ]
    },
    {
      "cell_type": "code",
      "execution_count": null,
      "id": "f6f68430-2636-4eb7-9317-c6d618b8f3ba",
      "metadata": {
        "id": "f6f68430-2636-4eb7-9317-c6d618b8f3ba"
      },
      "outputs": [],
      "source": [
        "linear_model_from_list(obesity_duration_bmi,  \"days_of_hospitalization\")"
      ]
    },
    {
      "cell_type": "code",
      "execution_count": null,
      "id": "edd3438a-681b-4267-bd93-4c0dbfd95cc4",
      "metadata": {
        "id": "edd3438a-681b-4267-bd93-4c0dbfd95cc4"
      },
      "outputs": [],
      "source": [
        "linear_model_from_list(obesity_duration_bmi_group,  \"days_of_hospitalization\")"
      ]
    },
    {
      "cell_type": "code",
      "execution_count": null,
      "id": "3622a23e-6f14-464c-9d79-1fafa3af9e54",
      "metadata": {
        "id": "3622a23e-6f14-464c-9d79-1fafa3af9e54"
      },
      "outputs": [],
      "source": [
        "# Get list that contain death_immidiate values for each bmi group \n",
        "obesity_dur_kw <- find_death_values(obesity_duration_bmi_group)\n",
        "\n",
        "# Perform Dunn's Test with bonferroni correction for death_immidiate values\n",
        "test <- dunn.test(x=obesity_dur_kw, method=\"bonferroni\")"
      ]
    },
    {
      "cell_type": "code",
      "execution_count": null,
      "id": "7e8ab8cf-e7ca-42f2-9feb-3db9604c2b50",
      "metadata": {
        "id": "7e8ab8cf-e7ca-42f2-9feb-3db9604c2b50"
      },
      "outputs": [],
      "source": [
        "# Get plot of groups connections\n",
        "get_similar_groups(test)"
      ]
    },
    {
      "cell_type": "markdown",
      "id": "d431da30-b98f-476c-b3a8-105b4f68df13",
      "metadata": {
        "id": "d431da30-b98f-476c-b3a8-105b4f68df13"
      },
      "source": [
        "##### **Change to cumulatative graph, y - precentage of patients until that day**"
      ]
    },
    {
      "cell_type": "code",
      "execution_count": null,
      "id": "1c673388-a0c2-4077-9e64-da8eb681b00e",
      "metadata": {
        "id": "1c673388-a0c2-4077-9e64-da8eb681b00e"
      },
      "outputs": [],
      "source": [
        "options(repr.plot.width = 12, repr.plot.height = 10)\n",
        "df <- obesity_duration_bmi_group %>% filter(days_of_hospitalization > 0)\n",
        "ggplot(df, aes(days_of_hospitalization, colour = bmi_group)) + stat_ecdf(size = 1)+\n",
        "    labs(title = \"Cumulative percentage of patients according to the duration of hospitalization\", \n",
        "       x = \"Duration of hospitalization (days)\",\n",
        "       y = \"Cumulative percentage of patients\",\n",
        "       subtitle = \"Divided by BMI group\",\n",
        "        fill = 'BMI group',\n",
        "        color = 'BMI group') +\n",
        "   theme(plot.title = element_text(face=\"bold\",size = 14), axis.title.x = element_text(hjust=0.5,size = 14),axis.title.y = element_text(hjust=0.5,size = 14),\n",
        "          plot.caption = element_text(hjust=0, size = 14),\n",
        "              plot.subtitle = element_text(, size = 13), legend.title = element_text(face=\"bold\",size=13), legend.text = element_text(size=13))"
      ]
    },
    {
      "cell_type": "code",
      "execution_count": null,
      "id": "ab69ac10-b26e-4ee0-83bd-797df13232f5",
      "metadata": {
        "id": "ab69ac10-b26e-4ee0-83bd-797df13232f5"
      },
      "outputs": [],
      "source": [
        "options(repr.plot.width = 10, repr.plot.height = 6)\n",
        "df <- obesity_duration_bmi_group %>% filter(days_of_hospitalization > 0)\n",
        "ggplot(df, aes(days_of_hospitalization, color = bmi_group)) + stat_ecdf(size = 1.5)+ \n",
        "    labs(title = \"Cumulative percentage of patients according to the duration of hospitalization\", \n",
        "       x = \"Duration of hospitalization (days)\",\n",
        "       y = \"Cumulative percentage of patients\",\n",
        "       subtitle = \"Divided by BMI group\",\n",
        "        fill = 'BMI group',\n",
        "        color = 'BMI group') +\n",
        "   theme(plot.title = element_text(face=\"bold\",size = 14), axis.title.x = element_text(hjust=0.5,size = 14),axis.title.y = element_text(hjust=0.5,size = 14),\n",
        "          plot.caption = element_text(hjust=0, size = 14),\n",
        "              plot.subtitle = element_text(, size = 13), legend.title = element_text(face=\"bold\",size=13), legend.text = element_text(size=13)) +\n",
        "  coord_cartesian(ylim = c(0.9, 1))"
      ]
    },
    {
      "cell_type": "code",
      "execution_count": null,
      "id": "2eb8aa69-2b31-41ca-8c36-22d7600f889d",
      "metadata": {
        "id": "2eb8aa69-2b31-41ca-8c36-22d7600f889d"
      },
      "outputs": [],
      "source": [
        "average_hosp_duration(obesity_duration_bmi_group)"
      ]
    },
    {
      "cell_type": "code",
      "execution_count": null,
      "id": "2a310e07-388b-4904-af97-ecc9356ae7b1",
      "metadata": {
        "id": "2a310e07-388b-4904-af97-ecc9356ae7b1"
      },
      "outputs": [],
      "source": [
        " # Filter days of hospitalization between 0 to 30\n",
        "obesity_duration_bmi_groups_for_graph <- obesity_duration[c(37,2:3,6)]\n",
        "obesity_duration_bmi_groups_for_graph <- obesity_duration_bmi_groups_for_graph %>% \n",
        "                                filter(days_of_hospitalization >=0, \n",
        "                                      days_of_hospitalization <= 30) %>% mutate(bmi_group = replace(bmi_group, bmi_group == \"BMI group 15-18.5\", \"15-18.5\"),\n",
        "                                                                               bmi_group = replace(bmi_group, bmi_group == \"BMI group 18.5-25\", \"18.5-25\"),\n",
        "                                                                               bmi_group = replace(bmi_group, bmi_group == \"BMI group 25-30\", \"25-30\"),\n",
        "                                                                               bmi_group = replace(bmi_group, bmi_group == \"BMI group 30-35\", \"30-35\"),\n",
        "                                                                               bmi_group = replace(bmi_group, bmi_group == \"BMI group 35-40\", \"35-40\"),\n",
        "                                                                               bmi_group = replace(bmi_group, bmi_group == \"BMI group 40-45\", \"40-45\"))\n",
        "\n",
        "plot_obesity_duration <- ggplot(obesity_duration_bmi_groups_for_graph, aes(x = days_of_hospitalization, y = bmi_group, fill = bmi_group, color = bmi_group))+ \n",
        "geom_density_ridges(alpha = 0.5) +\n",
        "scale_fill_viridis(discrete=TRUE, limits =  c(\"40-45\", \"35-40\", \"30-35\",\"25-30\",\"18.5-25\",\"15-18.5\"),direction = -1,end = 0.91)+\n",
        "scale_color_viridis(discrete=TRUE, limits =  c(\"40-45\", \"35-40\", \"30-35\",\"25-30\",\"18.5-25\",\"15-18.5\"),direction=-1,end = 0.91) +\n",
        "theme_ridges() +\n",
        "    labs(title = \"Hospitalization duration distribution\", \n",
        "       x = \"Duration of hospitalization (days)\",\n",
        "       y = \" BMI Group\",\n",
        "       subtitle = \"Divided by BMI group\",\n",
        "        fill = 'BMI group',\n",
        "        color = 'BMI group') +\n",
        "   theme(plot.title = element_text(face=\"bold\",size = 14), axis.title.x = element_text(hjust=0.5,size = 14),axis.title.y = element_text(hjust=0.5,size = 14),\n",
        "          plot.caption = element_text(hjust=0, size = 14),\n",
        "              plot.subtitle = element_text(, size = 13), legend.title = element_text(face=\"bold\",size=13), legend.text = element_text(size=13)) \n",
        "\n",
        "plot_obesity_duration "
      ]
    },
    {
      "cell_type": "markdown",
      "id": "18d3c05f-4041-473d-8e3d-daa6620f171c",
      "metadata": {
        "id": "18d3c05f-4041-473d-8e3d-daa6620f171c"
      },
      "source": [
        "#### **Re-hospitalizations**"
      ]
    },
    {
      "cell_type": "code",
      "execution_count": null,
      "id": "e0a2c7f8-5afd-4b58-b02f-3ef9a16adebc",
      "metadata": {
        "id": "e0a2c7f8-5afd-4b58-b02f-3ef9a16adebc"
      },
      "outputs": [],
      "source": [
        "obesity_re_hospitalizations <- readRDS(\"obesity_re_hospitalizations.RDS\")"
      ]
    },
    {
      "cell_type": "code",
      "execution_count": null,
      "id": "76edb71c-0c8b-490d-bd8d-8196b550dc9e",
      "metadata": {
        "id": "76edb71c-0c8b-490d-bd8d-8196b550dc9e"
      },
      "outputs": [],
      "source": [
        "re_hospitalizations_bmi <- obesity_re_hospitalizations[c(37,2:3,8)]"
      ]
    },
    {
      "cell_type": "code",
      "execution_count": null,
      "id": "bb6ed2a7-f061-4f39-9405-3502939cb574",
      "metadata": {
        "id": "bb6ed2a7-f061-4f39-9405-3502939cb574"
      },
      "outputs": [],
      "source": [
        "re_hospitalizations_bmi_group <- obesity_re_hospitalizations[c(37,2:3,6)]\n",
        "re_hospitalizations_bmi_group <- re_hospitalizations_bmi_group %>% mutate(bmi_group = as.factor(bmi_group))\n",
        "    re_hospitalizations_bmi_group <- re_hospitalizations_bmi_group %>%\n",
        "      mutate(bmi_group = relevel(bmi_group, ref = \"BMI group 18.5-25\"))"
      ]
    },
    {
      "cell_type": "markdown",
      "id": "5e40497e-ff93-4c01-8c5b-05d1c55f4e23",
      "metadata": {
        "tags": [],
        "id": "5e40497e-ff93-4c01-8c5b-05d1c55f4e23"
      },
      "source": [
        "##### **Get the logistic model**"
      ]
    },
    {
      "cell_type": "code",
      "execution_count": null,
      "id": "bbac864f-81f5-4480-91ef-6c7d85a55a80",
      "metadata": {
        "id": "bbac864f-81f5-4480-91ef-6c7d85a55a80"
      },
      "outputs": [],
      "source": [
        "logistic_model_from_list(re_hospitalizations_bmi,  \"binary_re_hospitalization\")"
      ]
    },
    {
      "cell_type": "code",
      "execution_count": null,
      "id": "27b00e20-2c7e-4055-8e4e-b97668a683b6",
      "metadata": {
        "id": "27b00e20-2c7e-4055-8e4e-b97668a683b6"
      },
      "outputs": [],
      "source": [
        "logistic_model_from_list(re_hospitalizations_bmi_group,  \"binary_re_hospitalization\")"
      ]
    },
    {
      "cell_type": "code",
      "execution_count": null,
      "id": "6d203e67-a09c-4806-abe4-9e91a4e2c1ea",
      "metadata": {
        "id": "6d203e67-a09c-4806-abe4-9e91a4e2c1ea"
      },
      "outputs": [],
      "source": [
        "#########################################################################################"
      ]
    },
    {
      "cell_type": "markdown",
      "id": "bdd4437a-66b0-4ef8-b441-5cf2c3dcc2cf",
      "metadata": {
        "tags": [],
        "id": "bdd4437a-66b0-4ef8-b441-5cf2c3dcc2cf"
      },
      "source": [
        "### **In addition - What are the confounding variables?**"
      ]
    },
    {
      "cell_type": "code",
      "execution_count": null,
      "id": "b0d701bf-5527-4eeb-89d9-7eb89d862eb4",
      "metadata": {
        "id": "b0d701bf-5527-4eeb-89d9-7eb89d862eb4"
      },
      "outputs": [],
      "source": [
        "library(MASS)"
      ]
    },
    {
      "cell_type": "code",
      "execution_count": null,
      "id": "d2477267-6522-4aa8-91d5-81268818f6f0",
      "metadata": {
        "id": "d2477267-6522-4aa8-91d5-81268818f6f0"
      },
      "outputs": [],
      "source": [
        "logistic_model_step <- function(tablename, dependent_variable) {\n",
        "\n",
        "variables_list <- colnames(tablename)\n",
        "variables_list <- variables_list[c(2:32)]\n",
        "independent_vars <- paste0(variables_list[1])\n",
        "\n",
        "for (i in 2: length(variables_list))\n",
        "{\n",
        "   independent_vars <- paste0(independent_vars,\"+\",variables_list[i])\n",
        "}\n",
        "    \n",
        "logistic_model <- glm(paste0(dependent_variable, \"~\", independent_vars), \n",
        "                      data = tablename, family = \"binomial\")    \n",
        "    \n",
        "step.model <- logistic_model %>% stepAIC(trace = FALSE)  \n",
        "logistic_table <- tidy(step.model)\n",
        "\n",
        "confidence_interval <- as_tibble(confint(step.model))\n",
        "logistic_table$\"2.5 %\" <-  as.numeric(paste(confidence_interval$\"2.5 %\"))\n",
        "logistic_table$\"97.5 %\" <-  as.numeric(paste(confidence_interval$\"97.5 %\"))\n",
        "logistic_table <- logistic_table %>% mutate(\"estimate+-[]\" = estimate - logistic_table$\"2.5 %\")\n",
        "logistic_table <- logistic_table %>%  arrange(p.value)\n",
        "logistic_table    \n",
        "}"
      ]
    },
    {
      "cell_type": "code",
      "execution_count": null,
      "id": "81a6214d-5567-412a-8603-1bceb2a4140d",
      "metadata": {
        "id": "81a6214d-5567-412a-8603-1bceb2a4140d"
      },
      "outputs": [],
      "source": [
        "logistic_model_step_groups <- function(tablename, dependent_variable) {\n",
        "    # get the independent variables\n",
        "    tablename <- tablename %>% mutate(bmi_group = as.factor(bmi_group))\n",
        "    tablename <- tablename %>%\n",
        "      mutate(bmi_group = relevel(bmi_group, ref = \"BMI group 18.5-25\"))\n",
        "    # get the independent variables\n",
        "    variables_list <- colnames(tablename)\n",
        "    variables_list <- variables_list[c(2:32)]\n",
        "    independent_vars <- paste0(variables_list[1])\n",
        "   for (i in 2: length(variables_list))\n",
        "        {\n",
        "           independent_vars <- paste0(independent_vars,\"+\",variables_list[i])\n",
        "        }\n",
        "    \n",
        "    logistic_model <- glm(paste0(dependent_variable, \"~\", independent_vars), \n",
        "                      data = tablename, family = \"binomial\")    \n",
        "    \n",
        "    step.model <- logistic_model %>% stepAIC(trace = FALSE)  \n",
        "    logistic_table <- tidy(step.model)\n",
        "\n",
        "    confidence_interval <- as_tibble(confint(step.model))\n",
        "    logistic_table$\"2.5 %\" <-  as.numeric(paste(confidence_interval$\"2.5 %\"))\n",
        "    logistic_table$\"97.5 %\" <-  as.numeric(paste(confidence_interval$\"97.5 %\"))\n",
        "    logistic_table <- logistic_table %>% mutate(\"estimate+-[]\" = estimate - logistic_table$\"2.5 %\")\n",
        "    logistic_table <- logistic_table %>%  arrange(p.value)\n",
        "    logistic_table    \n",
        "}"
      ]
    },
    {
      "cell_type": "markdown",
      "id": "ad9cad2c-f9ea-4e46-a94e-4e3533726759",
      "metadata": {
        "tags": [],
        "id": "ad9cad2c-f9ea-4e46-a94e-4e3533726759"
      },
      "source": [
        "##### Continuous BMI"
      ]
    },
    {
      "cell_type": "markdown",
      "id": "6fb6f524-f6a1-44b2-8ad8-dd0c2868de7a",
      "metadata": {
        "tags": [],
        "id": "6fb6f524-f6a1-44b2-8ad8-dd0c2868de7a"
      },
      "source": [
        "##### **1. Immidiate time**"
      ]
    },
    {
      "cell_type": "code",
      "execution_count": null,
      "id": "6a1c2842-7182-4201-b5e9-ffb93a1b3e78",
      "metadata": {
        "id": "6a1c2842-7182-4201-b5e9-ffb93a1b3e78"
      },
      "outputs": [],
      "source": [
        "obesity_binary_imm <- obesity_binary[c(37,2:3,8:36)]"
      ]
    },
    {
      "cell_type": "code",
      "execution_count": null,
      "id": "1a65e55a-9d2d-4019-85b4-4afece1a17d3",
      "metadata": {
        "id": "1a65e55a-9d2d-4019-85b4-4afece1a17d3"
      },
      "outputs": [],
      "source": [
        "logistic_model_step(obesity_binary_imm, \"death_immidiate\")"
      ]
    },
    {
      "cell_type": "markdown",
      "id": "8ff7ef30-50db-499b-bf66-b6479043b0b0",
      "metadata": {
        "tags": [],
        "id": "8ff7ef30-50db-499b-bf66-b6479043b0b0"
      },
      "source": [
        "##### **2. After 1 year**"
      ]
    },
    {
      "cell_type": "code",
      "execution_count": null,
      "id": "f8089a21-5e35-46b9-8c32-c118b2d1d607",
      "metadata": {
        "id": "f8089a21-5e35-46b9-8c32-c118b2d1d607"
      },
      "outputs": [],
      "source": [
        "obesity_binary_one_year <- obesity_binary[c(38,2:3,8:36)]\n",
        "\n",
        "logistic_model_step(obesity_binary_one_year, \"death_after_one_year\")"
      ]
    },
    {
      "cell_type": "markdown",
      "id": "cb517b2b-bac7-4538-b705-bed9e77e8895",
      "metadata": {
        "tags": [],
        "id": "cb517b2b-bac7-4538-b705-bed9e77e8895"
      },
      "source": [
        "##### **3. After 5 years**"
      ]
    },
    {
      "cell_type": "code",
      "execution_count": null,
      "id": "37167f89-5562-45d0-bce0-96f2a64894da",
      "metadata": {
        "id": "37167f89-5562-45d0-bce0-96f2a64894da"
      },
      "outputs": [],
      "source": [
        "# 2017-07-02 is the latest cohort_end_date\n",
        "not_include_5_years = obesity_binary %>% filter(as.Date(cohort_start_date) > '2017-07-02') \n",
        "\n",
        "obesity_binary_five_years <- obesity_binary %>% filter(!(person_id %in% not_include_5_years$person_id))\n",
        "obesity_binary_five_years <- obesity_binary[c(39,2:3,8:36)]\n",
        "\n",
        "logistic_model_step(obesity_binary_five_years, \"death_after_five_years\")"
      ]
    },
    {
      "cell_type": "markdown",
      "id": "faef295f-0e04-49bd-9202-00d98f3ffe91",
      "metadata": {
        "id": "faef295f-0e04-49bd-9202-00d98f3ffe91"
      },
      "source": [
        "##### BMI groups"
      ]
    },
    {
      "cell_type": "markdown",
      "id": "934c2576-181d-41d0-8802-90d5452c35aa",
      "metadata": {
        "tags": [],
        "id": "934c2576-181d-41d0-8802-90d5452c35aa"
      },
      "source": [
        "##### **1. Immidiate time**"
      ]
    },
    {
      "cell_type": "code",
      "execution_count": null,
      "id": "5b9858a1-ae75-49c5-bc9d-87ad0524235f",
      "metadata": {
        "id": "5b9858a1-ae75-49c5-bc9d-87ad0524235f"
      },
      "outputs": [],
      "source": [
        "obesity_binary_imm <- obesity_binary[c(37,2:3,6,9:36)]\n",
        "logistic_model_step_groups(obesity_binary_imm, \"death_immidiate\")"
      ]
    },
    {
      "cell_type": "markdown",
      "id": "bcb748bd-e40c-4865-832e-2dd61fe1d1d0",
      "metadata": {
        "tags": [],
        "id": "bcb748bd-e40c-4865-832e-2dd61fe1d1d0"
      },
      "source": [
        "##### **2. After 1 year**"
      ]
    },
    {
      "cell_type": "code",
      "execution_count": null,
      "id": "79e2bff9-cb4c-4d91-a6e5-90f0db508cac",
      "metadata": {
        "id": "79e2bff9-cb4c-4d91-a6e5-90f0db508cac"
      },
      "outputs": [],
      "source": [
        "obesity_binary_one_year <- obesity_binary[c(38,2:3,6,9:36)]\n",
        "logistic_model_step_groups(obesity_binary_one_year, \"death_after_one_year\")"
      ]
    },
    {
      "cell_type": "markdown",
      "id": "6c9b5e70-fefc-413d-bf6d-a433ca31d48a",
      "metadata": {
        "tags": [],
        "id": "6c9b5e70-fefc-413d-bf6d-a433ca31d48a"
      },
      "source": [
        "##### **3. After 5 years**"
      ]
    },
    {
      "cell_type": "code",
      "execution_count": null,
      "id": "3f7a6748-7942-4b03-8bab-613e6d762614",
      "metadata": {
        "id": "3f7a6748-7942-4b03-8bab-613e6d762614"
      },
      "outputs": [],
      "source": [
        "# 2017-07-02 is the latest cohort_end_date\n",
        "not_include_5_years = obesity_binary %>% filter(as.Date(cohort_start_date) > '2017-07-02') \n",
        "obesity_binary_five_years <- obesity_binary %>% filter(!(person_id %in% not_include_5_years$person_id))\n",
        "obesity_binary_five_years <- obesity_binary[c(39,2:3,6,9:36)]\n",
        "\n",
        "logistic_model_step_groups(obesity_binary_five_years, \"death_after_five_years\")"
      ]
    },
    {
      "cell_type": "markdown",
      "id": "812cad3f-ba18-4925-ad0e-86e4dee1b023",
      "metadata": {
        "id": "812cad3f-ba18-4925-ad0e-86e4dee1b023"
      },
      "source": [
        "#### **Extra - when does the obesity paradox disappear?**"
      ]
    },
    {
      "cell_type": "code",
      "execution_count": null,
      "id": "0cebb8f3-6c01-46cd-8f49-b596f5f7bad9",
      "metadata": {
        "id": "0cebb8f3-6c01-46cd-8f49-b596f5f7bad9"
      },
      "outputs": [],
      "source": [
        " # A function that adds binary columns from hospitalization to death for x years after hospitalization, death_date equal to NA will be 0\n",
        "add_binary_death_diff_time <- function(tablename, years) {\n",
        "     tablename <- tablename %>% \n",
        "    mutate(\n",
        "           # Every 4 years an additional day is added\n",
        "           death_after_x_years = ifelse((as.Date(death_date) - as.Date(cohort_start_date)) > 365*years + 1 *floor(years/4), 0, 1),\n",
        "           death_after_x_years = ifelse(is.na(death_date), 0, death_after_x_years))\n",
        "}"
      ]
    },
    {
      "cell_type": "code",
      "execution_count": null,
      "id": "6a66891f-b9e3-4f9e-91c4-9b5c2841971a",
      "metadata": {
        "id": "6a66891f-b9e3-4f9e-91c4-9b5c2841971a"
      },
      "outputs": [],
      "source": [
        " # A function that adds time_to_event_x_years column for survival analysis by finding the minimal time when a person dies/ no longer participates in the study/ not in the time frame\n",
        "add_time_to_event <- function(tablename, years) {\n",
        "tablename <- tablename %>% rowwise() %>% mutate(time_to_event_x_years =  ifelse(!is.na(death_date), min(as.Date(cohort_end_date), as.Date(death_date) ,as.Date(cohort_start_date) + 365*years + 1 *floor(years/4)) - cohort_start_date,\n",
        "                                                                                           min(as.Date(cohort_end_date),as.Date(cohort_start_date) + 365*years + 1 *(floor(years/4))) - cohort_start_date))\n",
        "}"
      ]
    },
    {
      "cell_type": "code",
      "execution_count": null,
      "id": "dd184ad3-de07-4a87-8971-d33c9530c410",
      "metadata": {
        "id": "dd184ad3-de07-4a87-8971-d33c9530c410"
      },
      "outputs": [],
      "source": [
        "library(\"survival\")"
      ]
    },
    {
      "cell_type": "code",
      "execution_count": null,
      "id": "b01b4b55-8d62-4015-a81c-ff295a8a868b",
      "metadata": {
        "id": "b01b4b55-8d62-4015-a81c-ff295a8a868b"
      },
      "outputs": [],
      "source": [
        "obesity <- readRDS(\"obesity.RDS\")"
      ]
    },
    {
      "cell_type": "code",
      "execution_count": null,
      "id": "6adc421b-6ed5-47dc-a17c-60f9a70d06a1",
      "metadata": {
        "id": "6adc421b-6ed5-47dc-a17c-60f9a70d06a1"
      },
      "outputs": [],
      "source": [
        "obesity_binary <- add_binary_deaths(obesity)\n",
        "\n",
        "# Finding the time when a person dies/ no longer participates in the study/ not in the time frame\n",
        "obesity_binary <- obesity_binary %>% rowwise() %>% mutate(time_to_event_imm = ifelse(!is.na(death_date), min(as.Date(cohort_end_date), as.Date(death_date) ,as.Date(cohort_start_date) + 90) - cohort_start_date,\n",
        "                                                                                min(as.Date(cohort_end_date),as.Date(cohort_start_date) + 90) - cohort_start_date),\n",
        "                                                         time_to_event_one_year = ifelse(!is.na(death_date), min(as.Date(cohort_end_date), as.Date(death_date) ,as.Date(cohort_start_date) + 365) - cohort_start_date,\n",
        "                                                                                min(as.Date(cohort_end_date),as.Date(cohort_start_date) + 365) - cohort_start_date),\n",
        "                                                         time_to_event_five_years = ifelse(!is.na(death_date), min(as.Date(cohort_end_date), as.Date(death_date) ,as.Date(cohort_start_date) + 5*365 + 1) - cohort_start_date,\n",
        "                                                                                min(as.Date(cohort_end_date),as.Date(cohort_start_date) + 5*365 + 1) - cohort_start_date))\n",
        "\n",
        "# Select only columns with age, gender, bmi, binary_death and time_to_event\n",
        "obesity_binary_imm <- obesity_binary[c(37,40,2:3,8)]\n",
        "\n",
        "res <- coxph_model_from_list(obesity_binary_imm,\"time_to_event_imm\", \"death_immidiate\")\n",
        "res <- res[c(1:5)]\n",
        "\n",
        "paradox_by_year = res %>% filter(term == \"bmi\") %>% mutate(term = \"bmi (immediate - 90 days)\", odd_ratio = exp(estimate), time = 90/365)\n",
        "\n",
        "for (i in 1:9) {\n",
        "    obesity_binary <- obesity\n",
        "    obesity_binary <- add_binary_death_diff_time(obesity_binary,i)\n",
        "\n",
        "    # Finding the time when a person dies/ no longer participates in the study/ not in the time frame\n",
        "    obesity_binary <- add_time_to_event(obesity_binary,i)\n",
        "\n",
        "    # select only columns with age, gender and bmi\n",
        "    obesity_binary_x_years <- obesity_binary[c(37,38,2:3,8)]\n",
        "\n",
        "    res <- coxph(Surv(time_to_event_x_years, death_after_x_years) ~ bmi + gender + age, data = obesity_binary_x_years)\n",
        "\n",
        "    rows <- tidy(res) %>% filter(term == \"bmi\") %>% mutate(term = paste0(paste0(\"bmi (\",i),\" years)\"),odd_ratio = exp(estimate), time = i)\n",
        "    paradox_by_year <-  bind_rows(paradox_by_year,rows)\n",
        "    }\n",
        "paradox_by_year "
      ]
    },
    {
      "cell_type": "code",
      "execution_count": null,
      "id": "9cf26a15-a6d7-4f73-9723-97b6b885dffa",
      "metadata": {
        "id": "9cf26a15-a6d7-4f73-9723-97b6b885dffa"
      },
      "outputs": [],
      "source": [
        "options(repr.plot.width = 10, repr.plot.height = 8)\n",
        "paradox_by_year %>%\n",
        "  tail(10) %>%\n",
        "  ggplot( aes(x=time, y=odd_ratio)) +\n",
        "    geom_line( color=\"grey\") +\n",
        "    geom_point(shape=21, color=\"black\", fill=\"#69b3a2\", size=5) +  scale_x_continuous(limits = c(0, 9), breaks = seq(0, 9, by = 1)) +  scale_y_continuous(limits = c(0.94, 0.97), breaks = seq(0.94, 0.97, by = 0.01)) +  labs(x = \"Time (years)\", y=\"Odds ratio\", title=\"Odds ratio over time from hospitalization\")  + theme_classic()  +\n",
        "        theme(plot.title = element_text(face=\"bold\",size = 16), axis.title.x = element_text(hjust=0.5,size = 14),axis.title.y = element_text(hjust=0.5,size = 14), legend.title = element_text(face=\"bold\", size=13), legend.text = element_text(size=13)) "
      ]
    }
  ],
  "metadata": {
    "kernelspec": {
      "display_name": "R",
      "language": "R",
      "name": "ir"
    },
    "language_info": {
      "codemirror_mode": "r",
      "file_extension": ".r",
      "mimetype": "text/x-r-source",
      "name": "R",
      "pygments_lexer": "r",
      "version": "4.1.1"
    },
    "colab": {
      "provenance": []
    }
  },
  "nbformat": 4,
  "nbformat_minor": 5
}